{
 "cells": [
  {
   "cell_type": "code",
   "execution_count": 1,
   "metadata": {},
   "outputs": [],
   "source": [
    "# Import the required libraries and dependencies\n",
    "import os\n",
    "import requests\n",
    "import json\n",
    "import pandas as pd\n",
    "from dotenv import load_dotenv\n",
    "import alpaca as tradeapi\n",
    "from MCForecastTools import MCSimulation\n",
    "import datetime\n",
    "from pandas.tseries.offsets import BDay\n",
    "\n",
    "%matplotlib inline"
   ]
  },
  {
   "cell_type": "code",
   "execution_count": 2,
   "metadata": {},
   "outputs": [
    {
     "data": {
      "text/plain": [
       "True"
      ]
     },
     "execution_count": 2,
     "metadata": {},
     "output_type": "execute_result"
    }
   ],
   "source": [
    "# Load the environment variables from the .env file\n",
    "# by calling the load_dotenv function\n",
    "load_dotenv()"
   ]
  },
  {
   "cell_type": "markdown",
   "metadata": {},
   "source": [
    "## Part 1: Create a Financial Planner for Emergencies"
   ]
  },
  {
   "cell_type": "markdown",
   "metadata": {},
   "source": [
    "### Evaluate the Cryptocurrency Wallet by Using the Requests Library\n",
    "\n",
    "In this section, you’ll determine the current value of a member’s cryptocurrency wallet. You’ll collect the current prices for the Bitcoin and Ethereum cryptocurrencies by using the Python Requests library. For the prototype, you’ll assume that the member holds the 1.2 Bitcoins (BTC) and 5.3 Ethereum coins (ETH). To do all this, complete the following steps:\n",
    "\n",
    "1. Create a variable named `monthly_income`, and set its value to `12000`.\n",
    "\n",
    "2. Use the Requests library to get the current price (in US dollars) of Bitcoin (BTC) and Ethereum (ETH) by using the API endpoints that the starter code supplies.\n",
    "\n",
    "3. Navigate the JSON response object to access the current price of each coin, and store each in a variable.\n",
    "\n",
    "    > **Hint** Note the specific identifier for each cryptocurrency in the API JSON response. The Bitcoin identifier is `1`, and the Ethereum identifier is `1027`.\n",
    "\n",
    "4. Calculate the value, in US dollars, of the current amount of each cryptocurrency and of the entire cryptocurrency wallet.\n",
    "\n"
   ]
  },
  {
   "cell_type": "code",
   "execution_count": 3,
   "metadata": {},
   "outputs": [],
   "source": [
    "# The current number of coins for each cryptocurrency asset held in the portfolio.\n",
    "btc_coins = 1.2\n",
    "eth_coins = 5.3"
   ]
  },
  {
   "cell_type": "markdown",
   "metadata": {},
   "source": [
    "#### Step 1: Create a variable named `monthly_income`, and set its value to `12000`."
   ]
  },
  {
   "cell_type": "code",
   "execution_count": 4,
   "metadata": {},
   "outputs": [],
   "source": [
    "# The monthly amount for the member's household income\n",
    "monthly_income = 12000"
   ]
  },
  {
   "cell_type": "markdown",
   "metadata": {},
   "source": [
    "#### Review the endpoint URLs for the API calls to Free Crypto API in order to get the current pricing information for both BTC and ETH."
   ]
  },
  {
   "cell_type": "code",
   "execution_count": 5,
   "metadata": {},
   "outputs": [],
   "source": [
    "# The Free Crypto API Call endpoint URLs for the held cryptocurrency assets\n",
    "btc_url = \"https://api.alternative.me/v2/ticker/Bitcoin/?convert=USD\"\n",
    "eth_url = \"https://api.alternative.me/v2/ticker/Ethereum/?convert=USD\""
   ]
  },
  {
   "cell_type": "markdown",
   "metadata": {},
   "source": [
    "#### Step 2. Use the Requests library to get the current price (in US dollars) of Bitcoin (BTC) and Ethereum (ETH) by using the API endpoints that the starter code supplied."
   ]
  },
  {
   "cell_type": "code",
   "execution_count": 6,
   "metadata": {},
   "outputs": [
    {
     "name": "stdout",
     "output_type": "stream",
     "text": [
      "{\n",
      "    \"data\": {\n",
      "        \"1\": {\n",
      "            \"circulating_supply\": 18773606,\n",
      "            \"id\": 1,\n",
      "            \"last_updated\": 1627859102,\n",
      "            \"max_supply\": 21000000,\n",
      "            \"name\": \"Bitcoin\",\n",
      "            \"quotes\": {\n",
      "                \"USD\": {\n",
      "                    \"market_cap\": 756616297895,\n",
      "                    \"percent_change_1h\": -1.77150329078278,\n",
      "                    \"percent_change_24h\": -3.51776684190535,\n",
      "                    \"percent_change_7d\": 18.0561227517478,\n",
      "                    \"percentage_change_1h\": -1.77150329078278,\n",
      "                    \"percentage_change_24h\": -3.51776684190535,\n",
      "                    \"percentage_change_7d\": 18.0561227517478,\n",
      "                    \"price\": 40391.0,\n",
      "                    \"volume_24h\": 28025745697\n",
      "                }\n",
      "            },\n",
      "            \"rank\": 1,\n",
      "            \"symbol\": \"BTC\",\n",
      "            \"total_supply\": 18773606,\n",
      "            \"website_slug\": \"bitcoin\"\n",
      "        }\n",
      "    },\n",
      "    \"metadata\": {\n",
      "        \"error\": null,\n",
      "        \"num_cryptocurrencies\": 3105,\n",
      "        \"timestamp\": 1627859102\n",
      "    }\n",
      "}\n"
     ]
    }
   ],
   "source": [
    "# Using the Python requests library, make an API call to access the current price of BTC\n",
    "btc_response = requests.get(btc_url).json()\n",
    "\n",
    "# Use the json.dumps function to review the response data from the API call\n",
    "# Use the indent and sort_keys parameters to make the response object readable\n",
    "print(json.dumps(btc_response, indent=4, sort_keys=True))"
   ]
  },
  {
   "cell_type": "code",
   "execution_count": 7,
   "metadata": {},
   "outputs": [
    {
     "name": "stdout",
     "output_type": "stream",
     "text": [
      "{\n",
      "    \"data\": {\n",
      "        \"1027\": {\n",
      "            \"circulating_supply\": 116933305,\n",
      "            \"id\": 1027,\n",
      "            \"last_updated\": 1627859091,\n",
      "            \"max_supply\": 0,\n",
      "            \"name\": \"Ethereum\",\n",
      "            \"quotes\": {\n",
      "                \"USD\": {\n",
      "                    \"market_cap\": 304765610731,\n",
      "                    \"percent_change_1h\": -1.76115604477754,\n",
      "                    \"percent_change_24h\": 2.79030525152565,\n",
      "                    \"percent_change_7d\": 19.3702637478679,\n",
      "                    \"percentage_change_1h\": -1.76115604477754,\n",
      "                    \"percentage_change_24h\": 2.79030525152565,\n",
      "                    \"percentage_change_7d\": 19.3702637478679,\n",
      "                    \"price\": 2606.6,\n",
      "                    \"volume_24h\": 25476397168\n",
      "                }\n",
      "            },\n",
      "            \"rank\": 2,\n",
      "            \"symbol\": \"ETH\",\n",
      "            \"total_supply\": 116933305,\n",
      "            \"website_slug\": \"ethereum\"\n",
      "        }\n",
      "    },\n",
      "    \"metadata\": {\n",
      "        \"error\": null,\n",
      "        \"num_cryptocurrencies\": 3105,\n",
      "        \"timestamp\": 1627859091\n",
      "    }\n",
      "}\n"
     ]
    }
   ],
   "source": [
    "# Using the Python requests library, make an API call to access the current price ETH\n",
    "eth_response = requests.get(eth_url).json()\n",
    "\n",
    "# Use the json.dumps function to review the response data from the API call\n",
    "# Use the indent and sort_keys parameters to make the response object readable\n",
    "print(json.dumps(eth_response, indent=4, sort_keys=True))"
   ]
  },
  {
   "cell_type": "markdown",
   "metadata": {},
   "source": [
    "#### Step 3: Navigate the JSON response object to access the current price of each coin, and store each in a variable."
   ]
  },
  {
   "cell_type": "code",
   "execution_count": 8,
   "metadata": {},
   "outputs": [
    {
     "name": "stdout",
     "output_type": "stream",
     "text": [
      "The current BTC price is $40,391.00\n"
     ]
    }
   ],
   "source": [
    "# Navigate the BTC response object to access the current USD price of BTC\n",
    "btc_price = btc_response['data']['1']['quotes']['USD']['price']\n",
    "\n",
    "# Print the current price of BTC\n",
    "print(f\"The current BTC price is ${btc_price:,.2f}\")"
   ]
  },
  {
   "cell_type": "code",
   "execution_count": 9,
   "metadata": {},
   "outputs": [
    {
     "name": "stdout",
     "output_type": "stream",
     "text": [
      "The current ETH price is $2,606.60\n"
     ]
    }
   ],
   "source": [
    "# Navigate the ETH response object to access the current USD price of ETH\n",
    "eth_price = eth_response['data']['1027']['quotes']['USD']['price']\n",
    "\n",
    "# Print the current price of ETH\n",
    "print(f\"The current ETH price is ${eth_price:,.2f}\")"
   ]
  },
  {
   "cell_type": "markdown",
   "metadata": {},
   "source": [
    "### Step 4: Calculate the value, in US dollars, of the current amount of each cryptocurrency and of the entire cryptocurrency wallet."
   ]
  },
  {
   "cell_type": "code",
   "execution_count": 10,
   "metadata": {},
   "outputs": [
    {
     "name": "stdout",
     "output_type": "stream",
     "text": [
      "The current value of 1.2 BTC coins is $48,469.20\n"
     ]
    }
   ],
   "source": [
    "# Compute the current value of the BTC holding \n",
    "btc_value = btc_coins * btc_price\n",
    "\n",
    "# Print current value of your holding in BTC\n",
    "print(f\"The current value of {btc_coins} BTC coins is ${btc_value:,.2f}\")\n"
   ]
  },
  {
   "cell_type": "code",
   "execution_count": 11,
   "metadata": {},
   "outputs": [
    {
     "name": "stdout",
     "output_type": "stream",
     "text": [
      "The current value of 5.3 BTC coins is $13,814.98\n"
     ]
    }
   ],
   "source": [
    "# Compute the current value of the ETH holding \n",
    "eth_value = eth_coins * eth_price\n",
    "\n",
    "# Print current value of your holding in ETH\n",
    "print(f\"The current value of {eth_coins} BTC coins is ${eth_value:,.2f}\")\n"
   ]
  },
  {
   "cell_type": "code",
   "execution_count": 12,
   "metadata": {},
   "outputs": [
    {
     "name": "stdout",
     "output_type": "stream",
     "text": [
      "The current balance of the cryptocurrency wallet is $62,284.18\n"
     ]
    }
   ],
   "source": [
    "# Compute the total value of the cryptocurrency wallet\n",
    "# Add the value of the BTC holding to the value of the ETH holding\n",
    "total_crypto_wallet = btc_value + eth_value\n",
    "\n",
    "# Print current cryptocurrency wallet balance\n",
    "print(f\"The current balance of the cryptocurrency wallet is ${total_crypto_wallet:,.2f}\")\n"
   ]
  },
  {
   "cell_type": "markdown",
   "metadata": {},
   "source": [
    "### Evaluate the Stock and Bond Holdings by Using the Alpaca SDK\n",
    "\n",
    "In this section, you’ll determine the current value of a member’s stock and bond holdings. You’ll make an API call to Alpaca via the Alpaca SDK to get the current closing prices of the SPDR S&P 500 ETF Trust (ticker: SPY) and of the iShares Core US Aggregate Bond ETF (ticker: AGG). For the prototype, assume that the member holds 110 shares of SPY, which represents the stock portion of their portfolio, and 200 shares of AGG, which represents the bond portion. To do all this, complete the following steps:\n",
    "\n",
    "1. In the `Starter_Code` folder, create an environment file (`.env`) to store the values of your Alpaca API key and Alpaca secret key.\n",
    "\n",
    "2. Set the variables for the Alpaca API and secret keys. Using the Alpaca SDK, create the Alpaca `tradeapi.REST` object. In this object, include the parameters for the Alpaca API key, the secret key, and the version number.\n",
    "\n",
    "3. Set the following parameters for the Alpaca API call:\n",
    "\n",
    "    - `tickers`: Use the tickers for the member’s stock and bond holdings.\n",
    "\n",
    "    - `timeframe`: Use a time frame of one day.\n",
    "\n",
    "    - `start_date` and `end_date`: Use the same date for these parameters, and format them with the date of the previous weekday (or `2020-08-07`). This is because you want the one closing price for the most-recent trading day.\n",
    "\n",
    "4. Get the current closing prices for `SPY` and `AGG` by using the Alpaca `get_barset` function. Format the response as a Pandas DataFrame by including the `df` property at the end of the `get_barset` function.\n",
    "\n",
    "5. Navigating the Alpaca response DataFrame, select the `SPY` and `AGG` closing prices, and store them as variables.\n",
    "\n",
    "6. Calculate the value, in US dollars, of the current amount of shares in each of the stock and bond portions of the portfolio, and print the results.\n"
   ]
  },
  {
   "cell_type": "markdown",
   "metadata": {},
   "source": [
    "#### Review the total number of shares held in both (SPY) and (AGG)."
   ]
  },
  {
   "cell_type": "code",
   "execution_count": 13,
   "metadata": {},
   "outputs": [],
   "source": [
    "# Current amount of shares held in both the stock (SPY) and bond (AGG) portion of the portfolio.\n",
    "spy_shares = 110\n",
    "agg_shares = 200"
   ]
  },
  {
   "cell_type": "markdown",
   "metadata": {},
   "source": [
    "#### Step 1: In the `Starter_Code` folder, create an environment file (`.env`) to store the values of your Alpaca API key and Alpaca secret key."
   ]
  },
  {
   "cell_type": "markdown",
   "metadata": {},
   "source": [
    "#### Step 2: Set the variables for the Alpaca API and secret keys. Using the Alpaca SDK, create the Alpaca `tradeapi.REST` object. In this object, include the parameters for the Alpaca API key, the secret key, and the version number."
   ]
  },
  {
   "cell_type": "code",
   "execution_count": 14,
   "metadata": {},
   "outputs": [],
   "source": [
    "# Set the variables for the Alpaca API and secret keys\n",
    "alpaca_api_key = os.getenv(\"ALPACA_API_KEY\")\n",
    "alpaca_secret_key = os.getenv(\"ALPACA_SECRET_KEY\")\n",
    "\n",
    "# Create the Alpaca tradeapi.REST object\n",
    "alpaca = tradeapi.REST(\n",
    "                alpaca_api_key,\n",
    "                alpaca_secret_key,\n",
    "                api_version=\"v2\")"
   ]
  },
  {
   "cell_type": "markdown",
   "metadata": {},
   "source": [
    "#### Step 3: Set the following parameters for the Alpaca API call:\n",
    "\n",
    "- `tickers`: Use the tickers for the member’s stock and bond holdings.\n",
    "\n",
    "- `timeframe`: Use a time frame of one day.\n",
    "\n",
    "- `start_date` and `end_date`: Use the same date for these parameters, and format them with the date of the previous weekday (or `2020-08-07`). This is because you want the one closing price for the most-recent trading day.\n"
   ]
  },
  {
   "cell_type": "code",
   "execution_count": 15,
   "metadata": {},
   "outputs": [],
   "source": [
    "# Set the tickers for both the bond and stock portion of the portfolio\n",
    "tickers = [\"SPY\", \"AGG\"]\n",
    "\n",
    "# Set timeframe to 1D \n",
    "timeframe=\"1D\"\n",
    "\n",
    "# Format current date as ISO format\n",
    "# Set both the start and end date at the date of your prior weekday \n",
    "# This will give you the closing price of the previous trading day\n",
    "todays_date = datetime.datetime.today()\n",
    "# Get the prior weekday\n",
    "previous_weekday = todays_date - BDay(1)\n",
    "start_date = pd.Timestamp(previous_weekday, tz='America/New_York').isoformat()\n",
    "end_date = start_date"
   ]
  },
  {
   "cell_type": "markdown",
   "metadata": {},
   "source": [
    "#### Step 4: Get the current closing prices for `SPY` and `AGG` by using the Alpaca `get_barset` function. Format the response as a Pandas DataFrame by including the `df` property at the end of the `get_barset` function."
   ]
  },
  {
   "cell_type": "code",
   "execution_count": 16,
   "metadata": {},
   "outputs": [
    {
     "data": {
      "text/html": [
       "<div>\n",
       "<style scoped>\n",
       "    .dataframe tbody tr th:only-of-type {\n",
       "        vertical-align: middle;\n",
       "    }\n",
       "\n",
       "    .dataframe tbody tr th {\n",
       "        vertical-align: top;\n",
       "    }\n",
       "\n",
       "    .dataframe thead tr th {\n",
       "        text-align: left;\n",
       "    }\n",
       "\n",
       "    .dataframe thead tr:last-of-type th {\n",
       "        text-align: right;\n",
       "    }\n",
       "</style>\n",
       "<table border=\"1\" class=\"dataframe\">\n",
       "  <thead>\n",
       "    <tr>\n",
       "      <th></th>\n",
       "      <th colspan=\"5\" halign=\"left\">AGG</th>\n",
       "      <th colspan=\"5\" halign=\"left\">SPY</th>\n",
       "    </tr>\n",
       "    <tr>\n",
       "      <th></th>\n",
       "      <th>open</th>\n",
       "      <th>high</th>\n",
       "      <th>low</th>\n",
       "      <th>close</th>\n",
       "      <th>volume</th>\n",
       "      <th>open</th>\n",
       "      <th>high</th>\n",
       "      <th>low</th>\n",
       "      <th>close</th>\n",
       "      <th>volume</th>\n",
       "    </tr>\n",
       "    <tr>\n",
       "      <th>time</th>\n",
       "      <th></th>\n",
       "      <th></th>\n",
       "      <th></th>\n",
       "      <th></th>\n",
       "      <th></th>\n",
       "      <th></th>\n",
       "      <th></th>\n",
       "      <th></th>\n",
       "      <th></th>\n",
       "      <th></th>\n",
       "    </tr>\n",
       "  </thead>\n",
       "  <tbody>\n",
       "    <tr>\n",
       "      <th>2021-07-30 00:00:00-04:00</th>\n",
       "      <td>116.36</td>\n",
       "      <td>116.485</td>\n",
       "      <td>116.3532</td>\n",
       "      <td>116.45</td>\n",
       "      <td>4859650</td>\n",
       "      <td>437.91</td>\n",
       "      <td>440.06</td>\n",
       "      <td>437.77</td>\n",
       "      <td>438.49</td>\n",
       "      <td>56594282</td>\n",
       "    </tr>\n",
       "  </tbody>\n",
       "</table>\n",
       "</div>"
      ],
      "text/plain": [
       "                              AGG                                         SPY  \\\n",
       "                             open     high       low   close   volume    open   \n",
       "time                                                                            \n",
       "2021-07-30 00:00:00-04:00  116.36  116.485  116.3532  116.45  4859650  437.91   \n",
       "\n",
       "                                                             \n",
       "                             high     low   close    volume  \n",
       "time                                                         \n",
       "2021-07-30 00:00:00-04:00  440.06  437.77  438.49  56594282  "
      ]
     },
     "execution_count": 16,
     "metadata": {},
     "output_type": "execute_result"
    }
   ],
   "source": [
    "# Use the Alpaca get_barset function to get current closing prices the portfolio\n",
    "# Be sure to set the `df` property after the function to format the response object as a DataFrame\n",
    "current_closing_prices_df = alpaca.get_barset(\n",
    "                                        tickers,\n",
    "                                        timeframe,\n",
    "                                        start=start_date,\n",
    "                                        end=end_date).df\n",
    "\n",
    "# Review the first 5 rows of the Alpaca DataFrame\n",
    "current_closing_prices_df.head()"
   ]
  },
  {
   "cell_type": "markdown",
   "metadata": {},
   "source": [
    "#### Step 5: Navigating the Alpaca response DataFrame, select the `SPY` and `AGG` closing prices, and store them as variables."
   ]
  },
  {
   "cell_type": "code",
   "execution_count": 17,
   "metadata": {},
   "outputs": [
    {
     "name": "stdout",
     "output_type": "stream",
     "text": [
      "The current closing price of iShares Core US Aggregate Bond ETF (AGG) is $116.45\n"
     ]
    }
   ],
   "source": [
    "# Access the closing price for AGG from the Alpaca DataFrame\n",
    "# Converting the value to a floating point number\n",
    "agg_close_price = float(current_closing_prices_df['AGG']['close'])\n",
    "\n",
    "# Print the AGG closing price\n",
    "print(f\"The current closing price of iShares Core US Aggregate Bond ETF (AGG) is ${agg_close_price:,.2f}\")"
   ]
  },
  {
   "cell_type": "code",
   "execution_count": 18,
   "metadata": {},
   "outputs": [
    {
     "name": "stdout",
     "output_type": "stream",
     "text": [
      "The current closing price of SPDR S&P 500 ETF (SPY) is $438.49\n"
     ]
    }
   ],
   "source": [
    "# Access the closing price for SPY from the Alpaca DataFrame\n",
    "# Converting the value to a floating point number\n",
    "spy_close_price = float(current_closing_prices_df['SPY']['close'])\n",
    "\n",
    "# Print the SPY closing price\n",
    "print(f\"The current closing price of SPDR S&P 500 ETF (SPY) is ${spy_close_price:,.2f}\")"
   ]
  },
  {
   "cell_type": "markdown",
   "metadata": {},
   "source": [
    "#### Step 6: Calculate the value, in US dollars, of the current amount of shares in each of the stock and bond portions of the portfolio, and print the results."
   ]
  },
  {
   "cell_type": "code",
   "execution_count": 19,
   "metadata": {},
   "outputs": [
    {
     "name": "stdout",
     "output_type": "stream",
     "text": [
      "The current value of 200 AGG shares is $23,290.00\n"
     ]
    }
   ],
   "source": [
    "# Calculate the current value of the bond portion of the portfolio\n",
    "agg_value = agg_close_price * agg_shares\n",
    "\n",
    "# Print the current value of the bond portfolio\n",
    "print(f\"The current value of {agg_shares} AGG shares is ${agg_value:,.2f}\")"
   ]
  },
  {
   "cell_type": "code",
   "execution_count": 20,
   "metadata": {},
   "outputs": [
    {
     "name": "stdout",
     "output_type": "stream",
     "text": [
      "The current value of 110 SPY shares is $48,233.90\n"
     ]
    }
   ],
   "source": [
    "# Calculate the current value of the stock portion of the portfolio\n",
    "spy_value = spy_close_price * spy_shares\n",
    "\n",
    "# Print the current value of the stock portfolio\n",
    "print(f\"The current value of {spy_shares} SPY shares is ${spy_value:,.2f}\")"
   ]
  },
  {
   "cell_type": "code",
   "execution_count": 21,
   "metadata": {},
   "outputs": [
    {
     "name": "stdout",
     "output_type": "stream",
     "text": [
      "The value of the stock and bond portion of the portfolio is $71,523.90\n"
     ]
    }
   ],
   "source": [
    "# Calculate the total value of the stock and bond portion of the portfolio\n",
    "total_stocks_bonds = agg_value + spy_value\n",
    "\n",
    "# Print the current balance of the stock and bond portion of the portfolio\n",
    "print(f\"The value of the stock and bond portion of the portfolio is ${total_stocks_bonds:,.2f}\")"
   ]
  },
  {
   "cell_type": "code",
   "execution_count": 22,
   "metadata": {},
   "outputs": [
    {
     "name": "stdout",
     "output_type": "stream",
     "text": [
      "Total value of the entire savings portfolio is $133,808.08\n"
     ]
    }
   ],
   "source": [
    "# Calculate the total value of the member's entire savings portfolio\n",
    "# Add the value of the cryptocurrency walled to the value of the total stocks and bonds\n",
    "total_portfolio = total_crypto_wallet + total_stocks_bonds\n",
    "\n",
    "# Print total value of entire savings portfolio\n",
    "print(f\"Total value of the entire savings portfolio is ${total_portfolio:,.2f}\")"
   ]
  },
  {
   "cell_type": "markdown",
   "metadata": {},
   "source": [
    "### Evaluate the Emergency Fund\n",
    "\n",
    "In this section, you’ll use the valuations for the cryptocurrency wallet and for the stock and bond portions of the portfolio to determine if the credit union member has enough savings to build an emergency fund into their financial plan. To do this, complete the following steps:\n",
    "\n",
    "1. Create a Python list named `savings_data` that has two elements. The first element contains the total value of the cryptocurrency wallet. The second element contains the total value of the stock and bond portions of the portfolio.\n",
    "\n",
    "2. Use the `savings_data` list to create a Pandas DataFrame named `savings_df`, and then display this DataFrame. The function to create the DataFrame should take the following three parameters:\n",
    "\n",
    "    - `savings_data`: Use the list that you just created.\n",
    "\n",
    "    - `columns`: Set this parameter equal to a Python list with a single value called `amount`.\n",
    "\n",
    "    - `index`: Set this parameter equal to a Python list with the values of `crypto` and `stock/bond`.\n",
    "\n",
    "3. Use the `savings_df` DataFrame to plot a pie chart that visualizes the composition of the member’s portfolio. The y-axis of the pie chart uses `amount`. Be sure to add a title.\n",
    "\n",
    "4. Using Python, determine if the current portfolio has enough to create an emergency fund as part of the member’s financial plan. Ideally, an emergency fund should equal to three times the member’s monthly income. To do this, implement the following steps:\n",
    "\n",
    "    1. Create a variable named `emergency_fund_value`, and set it equal to three times the value of the member’s `monthly_income` of $12000. (You set this earlier in Part 1).\n",
    "\n",
    "    2. Create a series of three if statements to determine if the member’s total portfolio is large enough to fund the emergency portfolio:\n",
    "\n",
    "        1. If the total portfolio value is greater than the emergency fund value, display a message congratulating the member for having enough money in this fund.\n",
    "\n",
    "        2. Else if the total portfolio value is equal to the emergency fund value, display a message congratulating the member on reaching this important financial goal.\n",
    "\n",
    "        3. Else the total portfolio is less than the emergency fund value, so display a message showing how many dollars away the member is from reaching the goal. (Subtract the total portfolio value from the emergency fund value.)\n"
   ]
  },
  {
   "cell_type": "markdown",
   "metadata": {},
   "source": [
    "#### Step 1: Create a Python list named `savings_data` that has two elements. The first element contains the total value of the cryptocurrency wallet. The second element contains the total value of the stock and bond portions of the portfolio."
   ]
  },
  {
   "cell_type": "code",
   "execution_count": 23,
   "metadata": {},
   "outputs": [
    {
     "name": "stdout",
     "output_type": "stream",
     "text": [
      "The savings data list is [62284.17999999999, 71523.9]\n"
     ]
    }
   ],
   "source": [
    "# Consolidate financial assets data into a Python list\n",
    "savings_data = [total_crypto_wallet, total_stocks_bonds]\n",
    "\n",
    "# Review the Python list savings_data\n",
    "print(f\"The savings data list is {savings_data}\")"
   ]
  },
  {
   "cell_type": "markdown",
   "metadata": {},
   "source": [
    "#### Step 2: Use the `savings_data` list to create a Pandas DataFrame named `savings_df`, and then display this DataFrame. The function to create the DataFrame should take the following three parameters:\n",
    "\n",
    "- `savings_data`: Use the list that you just created.\n",
    "\n",
    "- `columns`: Set this parameter equal to a Python list with a single value called `amount`.\n",
    "\n",
    "- `index`: Set this parameter equal to a Python list with the values of `crypto` and `stock/bond`.\n"
   ]
  },
  {
   "cell_type": "code",
   "execution_count": 24,
   "metadata": {},
   "outputs": [
    {
     "data": {
      "text/html": [
       "<div>\n",
       "<style scoped>\n",
       "    .dataframe tbody tr th:only-of-type {\n",
       "        vertical-align: middle;\n",
       "    }\n",
       "\n",
       "    .dataframe tbody tr th {\n",
       "        vertical-align: top;\n",
       "    }\n",
       "\n",
       "    .dataframe thead th {\n",
       "        text-align: right;\n",
       "    }\n",
       "</style>\n",
       "<table border=\"1\" class=\"dataframe\">\n",
       "  <thead>\n",
       "    <tr style=\"text-align: right;\">\n",
       "      <th></th>\n",
       "      <th>amount</th>\n",
       "    </tr>\n",
       "  </thead>\n",
       "  <tbody>\n",
       "    <tr>\n",
       "      <th>crypto</th>\n",
       "      <td>62284.18</td>\n",
       "    </tr>\n",
       "    <tr>\n",
       "      <th>stock/bond</th>\n",
       "      <td>71523.90</td>\n",
       "    </tr>\n",
       "  </tbody>\n",
       "</table>\n",
       "</div>"
      ],
      "text/plain": [
       "              amount\n",
       "crypto      62284.18\n",
       "stock/bond  71523.90"
      ]
     },
     "metadata": {},
     "output_type": "display_data"
    }
   ],
   "source": [
    "# Create a Pandas DataFrame called savings_df \n",
    "savings_df = pd.DataFrame(savings_data,\n",
    "                          columns=[\"amount\"],\n",
    "                          index=[\"crypto\", \"stock/bond\"])\n",
    "\n",
    "# Display the savings_df DataFrame\n",
    "display(savings_df)"
   ]
  },
  {
   "cell_type": "markdown",
   "metadata": {},
   "source": [
    "#### Step 3: Use the `savings_df` DataFrame to plot a pie chart that visualizes the composition of the member’s portfolio. The y-axis of the pie chart uses `amount`. Be sure to add a title."
   ]
  },
  {
   "cell_type": "code",
   "execution_count": 25,
   "metadata": {},
   "outputs": [
    {
     "data": {
      "text/plain": [
       "<AxesSubplot:title={'center':'Pie chart of the total value of the Portfolio'}, ylabel='amount'>"
      ]
     },
     "execution_count": 25,
     "metadata": {},
     "output_type": "execute_result"
    },
    {
     "data": {
      "image/png": "[encoded data removed]",
      "text/plain": [
       "<Figure size 432x288 with 1 Axes>"
      ]
     },
     "metadata": {},
     "output_type": "display_data"
    }
   ],
   "source": [
    "# Plot the total value of the member's portfolio (crypto and stock/bond) in a pie chart\n",
    "savings_df.plot.pie(y='amount',\n",
    "                    title=\"Pie chart of the total value of the Portfolio\",\n",
    "                    legend=False)"
   ]
  },
  {
   "cell_type": "markdown",
   "metadata": {},
   "source": [
    "#### Step 4: Using Python, determine if the current portfolio has enough to create an emergency fund as part of the member’s financial plan. Ideally, an emergency fund should equal to three times the member’s monthly income. To do this, implement the following steps:\n",
    "\n",
    "Step 1. Create a variable named `emergency_fund_value`, and set it equal to three times the value of the member’s `monthly_income` of 12000. (You set this earlier in Part 1).\n",
    "\n",
    "Step 2. Create a series of three if statements to determine if the member’s total portfolio is large enough to fund the emergency portfolio:\n",
    "\n",
    "* If the total portfolio value is greater than the emergency fund value, display a message congratulating the member for having enough money in this fund.\n",
    "\n",
    "* Else if the total portfolio value is equal to the emergency fund value, display a message congratulating the member on reaching this important financial goal.\n",
    "\n",
    "* Else the total portfolio is less than the emergency fund value, so display a message showing how many dollars away the member is from reaching the goal. (Subtract the total portfolio value from the emergency fund value.)\n"
   ]
  },
  {
   "cell_type": "markdown",
   "metadata": {},
   "source": [
    "##### Step 4-1: Create a variable named `emergency_fund_value`, and set it equal to three times the value of the member’s `monthly_income` of 12000. (You set this earlier in Part 1)."
   ]
  },
  {
   "cell_type": "code",
   "execution_count": 26,
   "metadata": {},
   "outputs": [],
   "source": [
    "# Create a variable named emergency_fund_value\n",
    "emergency_fund_value = 3 * monthly_income"
   ]
  },
  {
   "cell_type": "markdown",
   "metadata": {},
   "source": [
    "##### Step 4-2: Create a series of three if statements to determine if the member’s total portfolio is large enough to fund the emergency portfolio:\n",
    "\n",
    "* If the total portfolio value is greater than the emergency fund value, display a message congratulating the member for having enough money in this fund.\n",
    "\n",
    "* Else if the total portfolio value is equal to the emergency fund value, display a message congratulating the member on reaching this important financial goal.\n",
    "\n",
    "* Else the total portfolio is less than the emergency fund value, so display a message showing how many dollars away the member is from reaching the goal. (Subtract the total portfolio value from the emergency fund value.)"
   ]
  },
  {
   "cell_type": "code",
   "execution_count": 27,
   "metadata": {},
   "outputs": [
    {
     "name": "stdout",
     "output_type": "stream",
     "text": [
      "Congratulations! you have enough money $133,808.08 in this fund to meet emergency fund requirements of $36,000.00\n"
     ]
    }
   ],
   "source": [
    "# Evaluate the possibility of creating an emergency fund with 3 conditions:\n",
    "if total_portfolio > emergency_fund_value:\n",
    "    print(f\"Congratulations! you have enough money \"\n",
    "          f\"${total_portfolio:,.2f} in this fund to meet emergency fund \"\n",
    "          f\"requirements of ${emergency_fund_value:,.2f}\")\n",
    "elif total_portfolio == emergency_fund_value:\n",
    "    print(f\"Congratulations! you have reached an import finanical goal \"\n",
    "          f\"of having enough portfolio value to meet emergency fund \"\n",
    "          f\"requirements of ${emergency_fund_value:,.2f}\")\n",
    "else:\n",
    "    print(f\"Congratulations! you are \"\n",
    "          f\"${(emergency_fund_value - total_portfolio):,.2f} from meeting \"\n",
    "          f\"the emergency fund requirements\")"
   ]
  },
  {
   "cell_type": "markdown",
   "metadata": {},
   "source": [
    "## Part 2: Create a Financial Planner for Retirement"
   ]
  },
  {
   "cell_type": "markdown",
   "metadata": {},
   "source": [
    "### Create the Monte Carlo Simulation\n",
    "\n",
    "In this section, you’ll use the MCForecastTools library to create a Monte Carlo simulation for the member’s savings portfolio. To do this, complete the following steps:\n",
    "\n",
    "1. Make an API call via the Alpaca SDK to get 3 years of historical closing prices for a traditional 60/40 portfolio split: 60% stocks (SPY) and 40% bonds (AGG).\n",
    "\n",
    "2. Run a Monte Carlo simulation of 500 samples and 30 years for the 60/40 portfolio, and then plot the results.The following image shows the overlay line plot resulting from a simulation with these characteristics. However, because a random number generator is used to run each live Monte Carlo simulation, your image will differ slightly from this exact image:\n",
    "\n",
    "![A screenshot depicts the resulting plot.](Images/5-4-monte-carlo-line-plot.png)\n",
    "\n",
    "3. Plot the probability distribution of the Monte Carlo simulation. Plot the probability distribution of the Monte Carlo simulation. The following image shows the histogram plot resulting from a simulation with these characteristics. However, because a random number generator is used to run each live Monte Carlo simulation, your image will differ slightly from this exact image:\n",
    "\n",
    "![A screenshot depicts the histogram plot.](Images/5-4-monte-carlo-histogram.png)\n",
    "\n",
    "4. Generate the summary statistics for the Monte Carlo simulation.\n",
    "\n"
   ]
  },
  {
   "cell_type": "markdown",
   "metadata": {},
   "source": [
    "#### Step 1: Make an API call via the Alpaca SDK to get 3 years of historical closing prices for a traditional 60/40 portfolio split: 60% stocks (SPY) and 40% bonds (AGG)."
   ]
  },
  {
   "cell_type": "code",
   "execution_count": 28,
   "metadata": {},
   "outputs": [],
   "source": [
    "# Set start and end dates of 3 years back from your current date\n",
    "todays_date = str(datetime.datetime.now()).split()[0]\n",
    "three_years_ago = str(datetime.datetime.now() - datetime.timedelta(days=3*365)).split()[0]\n",
    "start_date = pd.Timestamp(three_years_ago, tz=\"America/New_York\").isoformat()\n",
    "end_date = pd.Timestamp(todays_date, tz=\"America/New_York\").isoformat()\n",
    "\n",
    "# Set number of rows to 1000 to retrieve the maximum amount of rows\n",
    "limit_rows = 1000"
   ]
  },
  {
   "cell_type": "code",
   "execution_count": 29,
   "metadata": {},
   "outputs": [
    {
     "data": {
      "text/html": [
       "<div>\n",
       "<style scoped>\n",
       "    .dataframe tbody tr th:only-of-type {\n",
       "        vertical-align: middle;\n",
       "    }\n",
       "\n",
       "    .dataframe tbody tr th {\n",
       "        vertical-align: top;\n",
       "    }\n",
       "\n",
       "    .dataframe thead tr th {\n",
       "        text-align: left;\n",
       "    }\n",
       "\n",
       "    .dataframe thead tr:last-of-type th {\n",
       "        text-align: right;\n",
       "    }\n",
       "</style>\n",
       "<table border=\"1\" class=\"dataframe\">\n",
       "  <thead>\n",
       "    <tr>\n",
       "      <th></th>\n",
       "      <th colspan=\"5\" halign=\"left\">AGG</th>\n",
       "      <th colspan=\"5\" halign=\"left\">SPY</th>\n",
       "    </tr>\n",
       "    <tr>\n",
       "      <th></th>\n",
       "      <th>open</th>\n",
       "      <th>high</th>\n",
       "      <th>low</th>\n",
       "      <th>close</th>\n",
       "      <th>volume</th>\n",
       "      <th>open</th>\n",
       "      <th>high</th>\n",
       "      <th>low</th>\n",
       "      <th>close</th>\n",
       "      <th>volume</th>\n",
       "    </tr>\n",
       "    <tr>\n",
       "      <th>time</th>\n",
       "      <th></th>\n",
       "      <th></th>\n",
       "      <th></th>\n",
       "      <th></th>\n",
       "      <th></th>\n",
       "      <th></th>\n",
       "      <th></th>\n",
       "      <th></th>\n",
       "      <th></th>\n",
       "      <th></th>\n",
       "    </tr>\n",
       "  </thead>\n",
       "  <tbody>\n",
       "    <tr>\n",
       "      <th>2018-08-02 00:00:00-04:00</th>\n",
       "      <td>105.76</td>\n",
       "      <td>105.7600</td>\n",
       "      <td>105.650</td>\n",
       "      <td>105.730</td>\n",
       "      <td>2989387.0</td>\n",
       "      <td>279.38</td>\n",
       "      <td>282.58</td>\n",
       "      <td>279.1600</td>\n",
       "      <td>282.34</td>\n",
       "      <td>42491022</td>\n",
       "    </tr>\n",
       "    <tr>\n",
       "      <th>2018-08-03 00:00:00-04:00</th>\n",
       "      <td>105.81</td>\n",
       "      <td>105.9799</td>\n",
       "      <td>105.810</td>\n",
       "      <td>105.930</td>\n",
       "      <td>2286629.0</td>\n",
       "      <td>282.53</td>\n",
       "      <td>283.65</td>\n",
       "      <td>282.3300</td>\n",
       "      <td>283.64</td>\n",
       "      <td>34485363</td>\n",
       "    </tr>\n",
       "    <tr>\n",
       "      <th>2018-08-06 00:00:00-04:00</th>\n",
       "      <td>106.03</td>\n",
       "      <td>106.1100</td>\n",
       "      <td>106.000</td>\n",
       "      <td>106.030</td>\n",
       "      <td>2974758.0</td>\n",
       "      <td>283.56</td>\n",
       "      <td>284.99</td>\n",
       "      <td>283.2015</td>\n",
       "      <td>284.68</td>\n",
       "      <td>29906355</td>\n",
       "    </tr>\n",
       "    <tr>\n",
       "      <th>2018-08-07 00:00:00-04:00</th>\n",
       "      <td>105.97</td>\n",
       "      <td>105.9700</td>\n",
       "      <td>105.825</td>\n",
       "      <td>105.840</td>\n",
       "      <td>2368151.0</td>\n",
       "      <td>285.39</td>\n",
       "      <td>286.01</td>\n",
       "      <td>285.2400</td>\n",
       "      <td>285.54</td>\n",
       "      <td>32455420</td>\n",
       "    </tr>\n",
       "    <tr>\n",
       "      <th>2018-08-08 00:00:00-04:00</th>\n",
       "      <td>105.83</td>\n",
       "      <td>105.9100</td>\n",
       "      <td>105.800</td>\n",
       "      <td>105.845</td>\n",
       "      <td>1613011.0</td>\n",
       "      <td>285.39</td>\n",
       "      <td>285.91</td>\n",
       "      <td>284.9400</td>\n",
       "      <td>285.42</td>\n",
       "      <td>29142601</td>\n",
       "    </tr>\n",
       "  </tbody>\n",
       "</table>\n",
       "</div>"
      ],
      "text/plain": [
       "                              AGG                                         \\\n",
       "                             open      high      low    close     volume   \n",
       "time                                                                       \n",
       "2018-08-02 00:00:00-04:00  105.76  105.7600  105.650  105.730  2989387.0   \n",
       "2018-08-03 00:00:00-04:00  105.81  105.9799  105.810  105.930  2286629.0   \n",
       "2018-08-06 00:00:00-04:00  106.03  106.1100  106.000  106.030  2974758.0   \n",
       "2018-08-07 00:00:00-04:00  105.97  105.9700  105.825  105.840  2368151.0   \n",
       "2018-08-08 00:00:00-04:00  105.83  105.9100  105.800  105.845  1613011.0   \n",
       "\n",
       "                              SPY                                      \n",
       "                             open    high       low   close    volume  \n",
       "time                                                                   \n",
       "2018-08-02 00:00:00-04:00  279.38  282.58  279.1600  282.34  42491022  \n",
       "2018-08-03 00:00:00-04:00  282.53  283.65  282.3300  283.64  34485363  \n",
       "2018-08-06 00:00:00-04:00  283.56  284.99  283.2015  284.68  29906355  \n",
       "2018-08-07 00:00:00-04:00  285.39  286.01  285.2400  285.54  32455420  \n",
       "2018-08-08 00:00:00-04:00  285.39  285.91  284.9400  285.42  29142601  "
      ]
     },
     "metadata": {},
     "output_type": "display_data"
    },
    {
     "data": {
      "text/html": [
       "<div>\n",
       "<style scoped>\n",
       "    .dataframe tbody tr th:only-of-type {\n",
       "        vertical-align: middle;\n",
       "    }\n",
       "\n",
       "    .dataframe tbody tr th {\n",
       "        vertical-align: top;\n",
       "    }\n",
       "\n",
       "    .dataframe thead tr th {\n",
       "        text-align: left;\n",
       "    }\n",
       "\n",
       "    .dataframe thead tr:last-of-type th {\n",
       "        text-align: right;\n",
       "    }\n",
       "</style>\n",
       "<table border=\"1\" class=\"dataframe\">\n",
       "  <thead>\n",
       "    <tr>\n",
       "      <th></th>\n",
       "      <th colspan=\"5\" halign=\"left\">AGG</th>\n",
       "      <th colspan=\"5\" halign=\"left\">SPY</th>\n",
       "    </tr>\n",
       "    <tr>\n",
       "      <th></th>\n",
       "      <th>open</th>\n",
       "      <th>high</th>\n",
       "      <th>low</th>\n",
       "      <th>close</th>\n",
       "      <th>volume</th>\n",
       "      <th>open</th>\n",
       "      <th>high</th>\n",
       "      <th>low</th>\n",
       "      <th>close</th>\n",
       "      <th>volume</th>\n",
       "    </tr>\n",
       "    <tr>\n",
       "      <th>time</th>\n",
       "      <th></th>\n",
       "      <th></th>\n",
       "      <th></th>\n",
       "      <th></th>\n",
       "      <th></th>\n",
       "      <th></th>\n",
       "      <th></th>\n",
       "      <th></th>\n",
       "      <th></th>\n",
       "      <th></th>\n",
       "    </tr>\n",
       "  </thead>\n",
       "  <tbody>\n",
       "    <tr>\n",
       "      <th>2021-07-26 00:00:00-04:00</th>\n",
       "      <td>116.30</td>\n",
       "      <td>116.330</td>\n",
       "      <td>116.0850</td>\n",
       "      <td>116.11</td>\n",
       "      <td>7028009.0</td>\n",
       "      <td>439.31</td>\n",
       "      <td>441.03</td>\n",
       "      <td>439.26</td>\n",
       "      <td>440.99</td>\n",
       "      <td>40155852</td>\n",
       "    </tr>\n",
       "    <tr>\n",
       "      <th>2021-07-27 00:00:00-04:00</th>\n",
       "      <td>116.35</td>\n",
       "      <td>116.400</td>\n",
       "      <td>116.2727</td>\n",
       "      <td>116.39</td>\n",
       "      <td>4669859.0</td>\n",
       "      <td>439.91</td>\n",
       "      <td>439.94</td>\n",
       "      <td>435.99</td>\n",
       "      <td>439.00</td>\n",
       "      <td>61032234</td>\n",
       "    </tr>\n",
       "    <tr>\n",
       "      <th>2021-07-28 00:00:00-04:00</th>\n",
       "      <td>116.24</td>\n",
       "      <td>116.490</td>\n",
       "      <td>116.1400</td>\n",
       "      <td>116.48</td>\n",
       "      <td>5189696.0</td>\n",
       "      <td>439.68</td>\n",
       "      <td>440.30</td>\n",
       "      <td>437.31</td>\n",
       "      <td>438.84</td>\n",
       "      <td>47642330</td>\n",
       "    </tr>\n",
       "    <tr>\n",
       "      <th>2021-07-29 00:00:00-04:00</th>\n",
       "      <td>116.29</td>\n",
       "      <td>116.360</td>\n",
       "      <td>116.2250</td>\n",
       "      <td>116.28</td>\n",
       "      <td>5216456.0</td>\n",
       "      <td>439.83</td>\n",
       "      <td>441.80</td>\n",
       "      <td>439.81</td>\n",
       "      <td>440.67</td>\n",
       "      <td>40930880</td>\n",
       "    </tr>\n",
       "    <tr>\n",
       "      <th>2021-07-30 00:00:00-04:00</th>\n",
       "      <td>116.36</td>\n",
       "      <td>116.485</td>\n",
       "      <td>116.3532</td>\n",
       "      <td>116.45</td>\n",
       "      <td>4859650.0</td>\n",
       "      <td>437.91</td>\n",
       "      <td>440.06</td>\n",
       "      <td>437.77</td>\n",
       "      <td>438.49</td>\n",
       "      <td>56594282</td>\n",
       "    </tr>\n",
       "  </tbody>\n",
       "</table>\n",
       "</div>"
      ],
      "text/plain": [
       "                              AGG                                        \\\n",
       "                             open     high       low   close     volume   \n",
       "time                                                                      \n",
       "2021-07-26 00:00:00-04:00  116.30  116.330  116.0850  116.11  7028009.0   \n",
       "2021-07-27 00:00:00-04:00  116.35  116.400  116.2727  116.39  4669859.0   \n",
       "2021-07-28 00:00:00-04:00  116.24  116.490  116.1400  116.48  5189696.0   \n",
       "2021-07-29 00:00:00-04:00  116.29  116.360  116.2250  116.28  5216456.0   \n",
       "2021-07-30 00:00:00-04:00  116.36  116.485  116.3532  116.45  4859650.0   \n",
       "\n",
       "                              SPY                                    \n",
       "                             open    high     low   close    volume  \n",
       "time                                                                 \n",
       "2021-07-26 00:00:00-04:00  439.31  441.03  439.26  440.99  40155852  \n",
       "2021-07-27 00:00:00-04:00  439.91  439.94  435.99  439.00  61032234  \n",
       "2021-07-28 00:00:00-04:00  439.68  440.30  437.31  438.84  47642330  \n",
       "2021-07-29 00:00:00-04:00  439.83  441.80  439.81  440.67  40930880  \n",
       "2021-07-30 00:00:00-04:00  437.91  440.06  437.77  438.49  56594282  "
      ]
     },
     "metadata": {},
     "output_type": "display_data"
    }
   ],
   "source": [
    "# Use the Alpaca get_barset function to make the API call to get the 3 years worth of pricing data\n",
    "# The tickers and timeframe parameters should have been set in Part 1 of this activity \n",
    "# The start and end dates should be updated with the information set above\n",
    "# Remember to add the df property to the end of the call so the response is returned as a DataFrame\n",
    "daily_returns_spy_agg_df = alpaca.get_barset(\n",
    "                                    tickers,\n",
    "                                    timeframe,\n",
    "                                    start=start_date,\n",
    "                                    end=end_date,\n",
    "                                    limit=limit_rows).df\n",
    "\n",
    "# Display both the first and last five rows of the DataFrame\n",
    "display(daily_returns_spy_agg_df.head())\n",
    "display(daily_returns_spy_agg_df.tail())"
   ]
  },
  {
   "cell_type": "markdown",
   "metadata": {},
   "source": [
    "#### Step 2: Run a Monte Carlo simulation of 500 samples and 30 years for the 60/40 portfolio, and then plot the results."
   ]
  },
  {
   "cell_type": "code",
   "execution_count": 30,
   "metadata": {},
   "outputs": [
    {
     "data": {
      "text/html": [
       "<div>\n",
       "<style scoped>\n",
       "    .dataframe tbody tr th:only-of-type {\n",
       "        vertical-align: middle;\n",
       "    }\n",
       "\n",
       "    .dataframe tbody tr th {\n",
       "        vertical-align: top;\n",
       "    }\n",
       "\n",
       "    .dataframe thead tr th {\n",
       "        text-align: left;\n",
       "    }\n",
       "\n",
       "    .dataframe thead tr:last-of-type th {\n",
       "        text-align: right;\n",
       "    }\n",
       "</style>\n",
       "<table border=\"1\" class=\"dataframe\">\n",
       "  <thead>\n",
       "    <tr>\n",
       "      <th></th>\n",
       "      <th colspan=\"6\" halign=\"left\">AGG</th>\n",
       "      <th colspan=\"6\" halign=\"left\">SPY</th>\n",
       "    </tr>\n",
       "    <tr>\n",
       "      <th></th>\n",
       "      <th>open</th>\n",
       "      <th>high</th>\n",
       "      <th>low</th>\n",
       "      <th>close</th>\n",
       "      <th>volume</th>\n",
       "      <th>daily_return</th>\n",
       "      <th>open</th>\n",
       "      <th>high</th>\n",
       "      <th>low</th>\n",
       "      <th>close</th>\n",
       "      <th>volume</th>\n",
       "      <th>daily_return</th>\n",
       "    </tr>\n",
       "    <tr>\n",
       "      <th>time</th>\n",
       "      <th></th>\n",
       "      <th></th>\n",
       "      <th></th>\n",
       "      <th></th>\n",
       "      <th></th>\n",
       "      <th></th>\n",
       "      <th></th>\n",
       "      <th></th>\n",
       "      <th></th>\n",
       "      <th></th>\n",
       "      <th></th>\n",
       "      <th></th>\n",
       "    </tr>\n",
       "  </thead>\n",
       "  <tbody>\n",
       "    <tr>\n",
       "      <th>2018-08-02 00:00:00-04:00</th>\n",
       "      <td>105.76</td>\n",
       "      <td>105.7600</td>\n",
       "      <td>105.650</td>\n",
       "      <td>105.730</td>\n",
       "      <td>2989387.0</td>\n",
       "      <td>NaN</td>\n",
       "      <td>279.38</td>\n",
       "      <td>282.58</td>\n",
       "      <td>279.1600</td>\n",
       "      <td>282.34</td>\n",
       "      <td>42491022</td>\n",
       "      <td>NaN</td>\n",
       "    </tr>\n",
       "    <tr>\n",
       "      <th>2018-08-03 00:00:00-04:00</th>\n",
       "      <td>105.81</td>\n",
       "      <td>105.9799</td>\n",
       "      <td>105.810</td>\n",
       "      <td>105.930</td>\n",
       "      <td>2286629.0</td>\n",
       "      <td>0.001892</td>\n",
       "      <td>282.53</td>\n",
       "      <td>283.65</td>\n",
       "      <td>282.3300</td>\n",
       "      <td>283.64</td>\n",
       "      <td>34485363</td>\n",
       "      <td>0.004604</td>\n",
       "    </tr>\n",
       "    <tr>\n",
       "      <th>2018-08-06 00:00:00-04:00</th>\n",
       "      <td>106.03</td>\n",
       "      <td>106.1100</td>\n",
       "      <td>106.000</td>\n",
       "      <td>106.030</td>\n",
       "      <td>2974758.0</td>\n",
       "      <td>0.000944</td>\n",
       "      <td>283.56</td>\n",
       "      <td>284.99</td>\n",
       "      <td>283.2015</td>\n",
       "      <td>284.68</td>\n",
       "      <td>29906355</td>\n",
       "      <td>0.003667</td>\n",
       "    </tr>\n",
       "    <tr>\n",
       "      <th>2018-08-07 00:00:00-04:00</th>\n",
       "      <td>105.97</td>\n",
       "      <td>105.9700</td>\n",
       "      <td>105.825</td>\n",
       "      <td>105.840</td>\n",
       "      <td>2368151.0</td>\n",
       "      <td>-0.001792</td>\n",
       "      <td>285.39</td>\n",
       "      <td>286.01</td>\n",
       "      <td>285.2400</td>\n",
       "      <td>285.54</td>\n",
       "      <td>32455420</td>\n",
       "      <td>0.003021</td>\n",
       "    </tr>\n",
       "    <tr>\n",
       "      <th>2018-08-08 00:00:00-04:00</th>\n",
       "      <td>105.83</td>\n",
       "      <td>105.9100</td>\n",
       "      <td>105.800</td>\n",
       "      <td>105.845</td>\n",
       "      <td>1613011.0</td>\n",
       "      <td>0.000047</td>\n",
       "      <td>285.39</td>\n",
       "      <td>285.91</td>\n",
       "      <td>284.9400</td>\n",
       "      <td>285.42</td>\n",
       "      <td>29142601</td>\n",
       "      <td>-0.000420</td>\n",
       "    </tr>\n",
       "  </tbody>\n",
       "</table>\n",
       "</div>"
      ],
      "text/plain": [
       "                              AGG                                         \\\n",
       "                             open      high      low    close     volume   \n",
       "time                                                                       \n",
       "2018-08-02 00:00:00-04:00  105.76  105.7600  105.650  105.730  2989387.0   \n",
       "2018-08-03 00:00:00-04:00  105.81  105.9799  105.810  105.930  2286629.0   \n",
       "2018-08-06 00:00:00-04:00  106.03  106.1100  106.000  106.030  2974758.0   \n",
       "2018-08-07 00:00:00-04:00  105.97  105.9700  105.825  105.840  2368151.0   \n",
       "2018-08-08 00:00:00-04:00  105.83  105.9100  105.800  105.845  1613011.0   \n",
       "\n",
       "                                           SPY                            \\\n",
       "                          daily_return    open    high       low   close   \n",
       "time                                                                       \n",
       "2018-08-02 00:00:00-04:00          NaN  279.38  282.58  279.1600  282.34   \n",
       "2018-08-03 00:00:00-04:00     0.001892  282.53  283.65  282.3300  283.64   \n",
       "2018-08-06 00:00:00-04:00     0.000944  283.56  284.99  283.2015  284.68   \n",
       "2018-08-07 00:00:00-04:00    -0.001792  285.39  286.01  285.2400  285.54   \n",
       "2018-08-08 00:00:00-04:00     0.000047  285.39  285.91  284.9400  285.42   \n",
       "\n",
       "                                                  \n",
       "                             volume daily_return  \n",
       "time                                              \n",
       "2018-08-02 00:00:00-04:00  42491022          NaN  \n",
       "2018-08-03 00:00:00-04:00  34485363     0.004604  \n",
       "2018-08-06 00:00:00-04:00  29906355     0.003667  \n",
       "2018-08-07 00:00:00-04:00  32455420     0.003021  \n",
       "2018-08-08 00:00:00-04:00  29142601    -0.000420  "
      ]
     },
     "execution_count": 30,
     "metadata": {},
     "output_type": "execute_result"
    }
   ],
   "source": [
    "# Configure the Monte Carlo simulation to forecast 30 years cumulative returns\n",
    "# The weights should be split 40% to AGG and 60% to SPY.\n",
    "# Run 500 samples.\n",
    "mc_thirty_year_40_60 = MCSimulation(\n",
    "                        portfolio_data = daily_returns_spy_agg_df,\n",
    "                        weights = [0.40, 0.60],\n",
    "                        num_simulation = 500,\n",
    "                        num_trading_days = 30 * 252)\n",
    "\n",
    "# Review the simulation input data\n",
    "mc_thirty_year_40_60.portfolio_data.head()"
   ]
  },
  {
   "cell_type": "code",
   "execution_count": 31,
   "metadata": {},
   "outputs": [
    {
     "name": "stdout",
     "output_type": "stream",
     "text": [
      "Running Monte Carlo simulation number 0.\n",
      "Running Monte Carlo simulation number 10.\n",
      "Running Monte Carlo simulation number 20.\n",
      "Running Monte Carlo simulation number 30.\n",
      "Running Monte Carlo simulation number 40.\n",
      "Running Monte Carlo simulation number 50.\n",
      "Running Monte Carlo simulation number 60.\n",
      "Running Monte Carlo simulation number 70.\n",
      "Running Monte Carlo simulation number 80.\n",
      "Running Monte Carlo simulation number 90.\n",
      "Running Monte Carlo simulation number 100.\n",
      "Running Monte Carlo simulation number 110.\n",
      "Running Monte Carlo simulation number 120.\n",
      "Running Monte Carlo simulation number 130.\n",
      "Running Monte Carlo simulation number 140.\n",
      "Running Monte Carlo simulation number 150.\n",
      "Running Monte Carlo simulation number 160.\n",
      "Running Monte Carlo simulation number 170.\n",
      "Running Monte Carlo simulation number 180.\n",
      "Running Monte Carlo simulation number 190.\n",
      "Running Monte Carlo simulation number 200.\n",
      "Running Monte Carlo simulation number 210.\n",
      "Running Monte Carlo simulation number 220.\n",
      "Running Monte Carlo simulation number 230.\n",
      "Running Monte Carlo simulation number 240.\n",
      "Running Monte Carlo simulation number 250.\n",
      "Running Monte Carlo simulation number 260.\n",
      "Running Monte Carlo simulation number 270.\n",
      "Running Monte Carlo simulation number 280.\n",
      "Running Monte Carlo simulation number 290.\n",
      "Running Monte Carlo simulation number 300.\n",
      "Running Monte Carlo simulation number 310.\n",
      "Running Monte Carlo simulation number 320.\n",
      "Running Monte Carlo simulation number 330.\n",
      "Running Monte Carlo simulation number 340.\n",
      "Running Monte Carlo simulation number 350.\n",
      "Running Monte Carlo simulation number 360.\n",
      "Running Monte Carlo simulation number 370.\n",
      "Running Monte Carlo simulation number 380.\n",
      "Running Monte Carlo simulation number 390.\n",
      "Running Monte Carlo simulation number 400.\n",
      "Running Monte Carlo simulation number 410.\n",
      "Running Monte Carlo simulation number 420.\n",
      "Running Monte Carlo simulation number 430.\n",
      "Running Monte Carlo simulation number 440.\n",
      "Running Monte Carlo simulation number 450.\n",
      "Running Monte Carlo simulation number 460.\n",
      "Running Monte Carlo simulation number 470.\n",
      "Running Monte Carlo simulation number 480.\n",
      "Running Monte Carlo simulation number 490.\n"
     ]
    },
    {
     "data": {
      "text/html": [
       "<div>\n",
       "<style scoped>\n",
       "    .dataframe tbody tr th:only-of-type {\n",
       "        vertical-align: middle;\n",
       "    }\n",
       "\n",
       "    .dataframe tbody tr th {\n",
       "        vertical-align: top;\n",
       "    }\n",
       "\n",
       "    .dataframe thead th {\n",
       "        text-align: right;\n",
       "    }\n",
       "</style>\n",
       "<table border=\"1\" class=\"dataframe\">\n",
       "  <thead>\n",
       "    <tr style=\"text-align: right;\">\n",
       "      <th></th>\n",
       "      <th>0</th>\n",
       "      <th>1</th>\n",
       "      <th>2</th>\n",
       "      <th>3</th>\n",
       "      <th>4</th>\n",
       "      <th>5</th>\n",
       "      <th>6</th>\n",
       "      <th>7</th>\n",
       "      <th>8</th>\n",
       "      <th>9</th>\n",
       "      <th>...</th>\n",
       "      <th>490</th>\n",
       "      <th>491</th>\n",
       "      <th>492</th>\n",
       "      <th>493</th>\n",
       "      <th>494</th>\n",
       "      <th>495</th>\n",
       "      <th>496</th>\n",
       "      <th>497</th>\n",
       "      <th>498</th>\n",
       "      <th>499</th>\n",
       "    </tr>\n",
       "  </thead>\n",
       "  <tbody>\n",
       "    <tr>\n",
       "      <th>0</th>\n",
       "      <td>1.000000</td>\n",
       "      <td>1.000000</td>\n",
       "      <td>1.000000</td>\n",
       "      <td>1.000000</td>\n",
       "      <td>1.000000</td>\n",
       "      <td>1.000000</td>\n",
       "      <td>1.000000</td>\n",
       "      <td>1.000000</td>\n",
       "      <td>1.000000</td>\n",
       "      <td>1.000000</td>\n",
       "      <td>...</td>\n",
       "      <td>1.000000</td>\n",
       "      <td>1.000000</td>\n",
       "      <td>1.000000</td>\n",
       "      <td>1.000000</td>\n",
       "      <td>1.000000</td>\n",
       "      <td>1.000000</td>\n",
       "      <td>1.000000</td>\n",
       "      <td>1.000000</td>\n",
       "      <td>1.000000</td>\n",
       "      <td>1.000000</td>\n",
       "    </tr>\n",
       "    <tr>\n",
       "      <th>1</th>\n",
       "      <td>1.016100</td>\n",
       "      <td>0.990353</td>\n",
       "      <td>1.010665</td>\n",
       "      <td>0.989969</td>\n",
       "      <td>0.995074</td>\n",
       "      <td>0.977538</td>\n",
       "      <td>1.008838</td>\n",
       "      <td>0.998967</td>\n",
       "      <td>1.002464</td>\n",
       "      <td>0.998335</td>\n",
       "      <td>...</td>\n",
       "      <td>1.003101</td>\n",
       "      <td>1.005535</td>\n",
       "      <td>1.005455</td>\n",
       "      <td>1.005201</td>\n",
       "      <td>1.000527</td>\n",
       "      <td>1.004157</td>\n",
       "      <td>1.018876</td>\n",
       "      <td>0.997010</td>\n",
       "      <td>1.009337</td>\n",
       "      <td>0.987229</td>\n",
       "    </tr>\n",
       "    <tr>\n",
       "      <th>2</th>\n",
       "      <td>1.018876</td>\n",
       "      <td>1.001977</td>\n",
       "      <td>1.012284</td>\n",
       "      <td>0.981213</td>\n",
       "      <td>1.001247</td>\n",
       "      <td>0.972710</td>\n",
       "      <td>1.012963</td>\n",
       "      <td>0.999924</td>\n",
       "      <td>1.009343</td>\n",
       "      <td>0.974492</td>\n",
       "      <td>...</td>\n",
       "      <td>0.995077</td>\n",
       "      <td>1.000683</td>\n",
       "      <td>1.007318</td>\n",
       "      <td>0.998585</td>\n",
       "      <td>0.998654</td>\n",
       "      <td>1.009597</td>\n",
       "      <td>1.008105</td>\n",
       "      <td>1.008546</td>\n",
       "      <td>1.014740</td>\n",
       "      <td>0.985163</td>\n",
       "    </tr>\n",
       "    <tr>\n",
       "      <th>3</th>\n",
       "      <td>1.008057</td>\n",
       "      <td>1.015316</td>\n",
       "      <td>1.009411</td>\n",
       "      <td>0.979552</td>\n",
       "      <td>1.005850</td>\n",
       "      <td>0.984642</td>\n",
       "      <td>1.009222</td>\n",
       "      <td>0.985893</td>\n",
       "      <td>0.998511</td>\n",
       "      <td>0.974193</td>\n",
       "      <td>...</td>\n",
       "      <td>0.995494</td>\n",
       "      <td>1.013196</td>\n",
       "      <td>1.013697</td>\n",
       "      <td>0.999968</td>\n",
       "      <td>0.997570</td>\n",
       "      <td>1.015811</td>\n",
       "      <td>1.004413</td>\n",
       "      <td>1.013549</td>\n",
       "      <td>1.005112</td>\n",
       "      <td>0.986387</td>\n",
       "    </tr>\n",
       "    <tr>\n",
       "      <th>4</th>\n",
       "      <td>1.004176</td>\n",
       "      <td>1.019528</td>\n",
       "      <td>0.993484</td>\n",
       "      <td>0.984091</td>\n",
       "      <td>0.999083</td>\n",
       "      <td>1.002842</td>\n",
       "      <td>1.020521</td>\n",
       "      <td>0.978542</td>\n",
       "      <td>1.014721</td>\n",
       "      <td>0.969354</td>\n",
       "      <td>...</td>\n",
       "      <td>1.000936</td>\n",
       "      <td>0.998579</td>\n",
       "      <td>1.017308</td>\n",
       "      <td>0.999830</td>\n",
       "      <td>1.006697</td>\n",
       "      <td>1.019339</td>\n",
       "      <td>0.998579</td>\n",
       "      <td>1.015023</td>\n",
       "      <td>0.996370</td>\n",
       "      <td>0.985654</td>\n",
       "    </tr>\n",
       "    <tr>\n",
       "      <th>...</th>\n",
       "      <td>...</td>\n",
       "      <td>...</td>\n",
       "      <td>...</td>\n",
       "      <td>...</td>\n",
       "      <td>...</td>\n",
       "      <td>...</td>\n",
       "      <td>...</td>\n",
       "      <td>...</td>\n",
       "      <td>...</td>\n",
       "      <td>...</td>\n",
       "      <td>...</td>\n",
       "      <td>...</td>\n",
       "      <td>...</td>\n",
       "      <td>...</td>\n",
       "      <td>...</td>\n",
       "      <td>...</td>\n",
       "      <td>...</td>\n",
       "      <td>...</td>\n",
       "      <td>...</td>\n",
       "      <td>...</td>\n",
       "      <td>...</td>\n",
       "    </tr>\n",
       "    <tr>\n",
       "      <th>7556</th>\n",
       "      <td>19.487113</td>\n",
       "      <td>133.354464</td>\n",
       "      <td>13.091709</td>\n",
       "      <td>12.870515</td>\n",
       "      <td>36.829525</td>\n",
       "      <td>12.850130</td>\n",
       "      <td>81.199403</td>\n",
       "      <td>61.961832</td>\n",
       "      <td>24.909529</td>\n",
       "      <td>25.917117</td>\n",
       "      <td>...</td>\n",
       "      <td>48.513891</td>\n",
       "      <td>33.326006</td>\n",
       "      <td>90.999719</td>\n",
       "      <td>80.795207</td>\n",
       "      <td>24.546115</td>\n",
       "      <td>12.981839</td>\n",
       "      <td>10.779054</td>\n",
       "      <td>23.627722</td>\n",
       "      <td>13.841270</td>\n",
       "      <td>20.359052</td>\n",
       "    </tr>\n",
       "    <tr>\n",
       "      <th>7557</th>\n",
       "      <td>19.316105</td>\n",
       "      <td>134.415049</td>\n",
       "      <td>12.928444</td>\n",
       "      <td>12.791573</td>\n",
       "      <td>36.796410</td>\n",
       "      <td>13.020341</td>\n",
       "      <td>81.861436</td>\n",
       "      <td>62.277847</td>\n",
       "      <td>24.846298</td>\n",
       "      <td>26.238422</td>\n",
       "      <td>...</td>\n",
       "      <td>48.154974</td>\n",
       "      <td>33.502768</td>\n",
       "      <td>90.859847</td>\n",
       "      <td>81.302155</td>\n",
       "      <td>24.653004</td>\n",
       "      <td>13.091040</td>\n",
       "      <td>10.573985</td>\n",
       "      <td>23.761802</td>\n",
       "      <td>13.818663</td>\n",
       "      <td>20.323956</td>\n",
       "    </tr>\n",
       "    <tr>\n",
       "      <th>7558</th>\n",
       "      <td>19.327620</td>\n",
       "      <td>134.196038</td>\n",
       "      <td>12.978577</td>\n",
       "      <td>12.670463</td>\n",
       "      <td>36.438914</td>\n",
       "      <td>12.890004</td>\n",
       "      <td>82.894919</td>\n",
       "      <td>62.935327</td>\n",
       "      <td>24.838675</td>\n",
       "      <td>26.268829</td>\n",
       "      <td>...</td>\n",
       "      <td>48.404863</td>\n",
       "      <td>33.043116</td>\n",
       "      <td>91.655078</td>\n",
       "      <td>81.315813</td>\n",
       "      <td>24.500191</td>\n",
       "      <td>13.155895</td>\n",
       "      <td>10.404116</td>\n",
       "      <td>23.678300</td>\n",
       "      <td>13.726039</td>\n",
       "      <td>20.348905</td>\n",
       "    </tr>\n",
       "    <tr>\n",
       "      <th>7559</th>\n",
       "      <td>19.476740</td>\n",
       "      <td>134.496339</td>\n",
       "      <td>12.867269</td>\n",
       "      <td>12.590967</td>\n",
       "      <td>36.329202</td>\n",
       "      <td>12.844176</td>\n",
       "      <td>84.255373</td>\n",
       "      <td>62.827296</td>\n",
       "      <td>24.979808</td>\n",
       "      <td>26.275655</td>\n",
       "      <td>...</td>\n",
       "      <td>48.173754</td>\n",
       "      <td>32.434807</td>\n",
       "      <td>91.360328</td>\n",
       "      <td>81.305769</td>\n",
       "      <td>24.289233</td>\n",
       "      <td>13.103161</td>\n",
       "      <td>10.395090</td>\n",
       "      <td>23.845607</td>\n",
       "      <td>13.781206</td>\n",
       "      <td>20.563884</td>\n",
       "    </tr>\n",
       "    <tr>\n",
       "      <th>7560</th>\n",
       "      <td>19.336683</td>\n",
       "      <td>133.962750</td>\n",
       "      <td>12.897580</td>\n",
       "      <td>12.505084</td>\n",
       "      <td>37.275031</td>\n",
       "      <td>12.704493</td>\n",
       "      <td>83.585443</td>\n",
       "      <td>61.866582</td>\n",
       "      <td>25.163076</td>\n",
       "      <td>26.000657</td>\n",
       "      <td>...</td>\n",
       "      <td>48.223915</td>\n",
       "      <td>32.523285</td>\n",
       "      <td>92.106257</td>\n",
       "      <td>80.898295</td>\n",
       "      <td>23.967660</td>\n",
       "      <td>13.152835</td>\n",
       "      <td>10.449434</td>\n",
       "      <td>24.129686</td>\n",
       "      <td>14.065197</td>\n",
       "      <td>20.515297</td>\n",
       "    </tr>\n",
       "  </tbody>\n",
       "</table>\n",
       "<p>7561 rows × 500 columns</p>\n",
       "</div>"
      ],
      "text/plain": [
       "            0           1          2          3          4          5    \\\n",
       "0      1.000000    1.000000   1.000000   1.000000   1.000000   1.000000   \n",
       "1      1.016100    0.990353   1.010665   0.989969   0.995074   0.977538   \n",
       "2      1.018876    1.001977   1.012284   0.981213   1.001247   0.972710   \n",
       "3      1.008057    1.015316   1.009411   0.979552   1.005850   0.984642   \n",
       "4      1.004176    1.019528   0.993484   0.984091   0.999083   1.002842   \n",
       "...         ...         ...        ...        ...        ...        ...   \n",
       "7556  19.487113  133.354464  13.091709  12.870515  36.829525  12.850130   \n",
       "7557  19.316105  134.415049  12.928444  12.791573  36.796410  13.020341   \n",
       "7558  19.327620  134.196038  12.978577  12.670463  36.438914  12.890004   \n",
       "7559  19.476740  134.496339  12.867269  12.590967  36.329202  12.844176   \n",
       "7560  19.336683  133.962750  12.897580  12.505084  37.275031  12.704493   \n",
       "\n",
       "            6          7          8          9    ...        490        491  \\\n",
       "0      1.000000   1.000000   1.000000   1.000000  ...   1.000000   1.000000   \n",
       "1      1.008838   0.998967   1.002464   0.998335  ...   1.003101   1.005535   \n",
       "2      1.012963   0.999924   1.009343   0.974492  ...   0.995077   1.000683   \n",
       "3      1.009222   0.985893   0.998511   0.974193  ...   0.995494   1.013196   \n",
       "4      1.020521   0.978542   1.014721   0.969354  ...   1.000936   0.998579   \n",
       "...         ...        ...        ...        ...  ...        ...        ...   \n",
       "7556  81.199403  61.961832  24.909529  25.917117  ...  48.513891  33.326006   \n",
       "7557  81.861436  62.277847  24.846298  26.238422  ...  48.154974  33.502768   \n",
       "7558  82.894919  62.935327  24.838675  26.268829  ...  48.404863  33.043116   \n",
       "7559  84.255373  62.827296  24.979808  26.275655  ...  48.173754  32.434807   \n",
       "7560  83.585443  61.866582  25.163076  26.000657  ...  48.223915  32.523285   \n",
       "\n",
       "            492        493        494        495        496        497  \\\n",
       "0      1.000000   1.000000   1.000000   1.000000   1.000000   1.000000   \n",
       "1      1.005455   1.005201   1.000527   1.004157   1.018876   0.997010   \n",
       "2      1.007318   0.998585   0.998654   1.009597   1.008105   1.008546   \n",
       "3      1.013697   0.999968   0.997570   1.015811   1.004413   1.013549   \n",
       "4      1.017308   0.999830   1.006697   1.019339   0.998579   1.015023   \n",
       "...         ...        ...        ...        ...        ...        ...   \n",
       "7556  90.999719  80.795207  24.546115  12.981839  10.779054  23.627722   \n",
       "7557  90.859847  81.302155  24.653004  13.091040  10.573985  23.761802   \n",
       "7558  91.655078  81.315813  24.500191  13.155895  10.404116  23.678300   \n",
       "7559  91.360328  81.305769  24.289233  13.103161  10.395090  23.845607   \n",
       "7560  92.106257  80.898295  23.967660  13.152835  10.449434  24.129686   \n",
       "\n",
       "            498        499  \n",
       "0      1.000000   1.000000  \n",
       "1      1.009337   0.987229  \n",
       "2      1.014740   0.985163  \n",
       "3      1.005112   0.986387  \n",
       "4      0.996370   0.985654  \n",
       "...         ...        ...  \n",
       "7556  13.841270  20.359052  \n",
       "7557  13.818663  20.323956  \n",
       "7558  13.726039  20.348905  \n",
       "7559  13.781206  20.563884  \n",
       "7560  14.065197  20.515297  \n",
       "\n",
       "[7561 rows x 500 columns]"
      ]
     },
     "execution_count": 31,
     "metadata": {},
     "output_type": "execute_result"
    }
   ],
   "source": [
    "# Run the Monte Carlo simulation to forecast 30 years cumulative returns\n",
    "mc_thirty_year_40_60.calc_cumulative_return()"
   ]
  },
  {
   "cell_type": "code",
   "execution_count": 32,
   "metadata": {},
   "outputs": [
    {
     "data": {
      "image/png": "[encoded data removed]",
      "text/plain": [
       "<Figure size 432x288 with 1 Axes>"
      ]
     },
     "metadata": {
      "needs_background": "light"
     },
     "output_type": "display_data"
    }
   ],
   "source": [
    "# Visualize the 30-year Monte Carlo simulation by creating an\n",
    "# overlay line plot\n",
    "mc_thirty_year_40_60_sim_line_plot = mc_thirty_year_40_60.plot_simulation()\n"
   ]
  },
  {
   "cell_type": "markdown",
   "metadata": {},
   "source": [
    "#### Step 3: Plot the probability distribution of the Monte Carlo simulation."
   ]
  },
  {
   "cell_type": "code",
   "execution_count": 33,
   "metadata": {},
   "outputs": [
    {
     "data": {
      "image/png": "[encoded data removed]",
      "text/plain": [
       "<Figure size 432x288 with 1 Axes>"
      ]
     },
     "metadata": {
      "needs_background": "light"
     },
     "output_type": "display_data"
    }
   ],
   "source": [
    "# Visualize the probability distribution of the 30-year Monte Carlo simulation \n",
    "# by plotting a histogram\n",
    "mc_thirty_year_40_60_sim_dist_plot = mc_thirty_year_40_60.plot_distribution()\n"
   ]
  },
  {
   "cell_type": "markdown",
   "metadata": {},
   "source": [
    "#### Step 4: Generate the summary statistics for the Monte Carlo simulation."
   ]
  },
  {
   "cell_type": "code",
   "execution_count": 34,
   "metadata": {},
   "outputs": [
    {
     "name": "stdout",
     "output_type": "stream",
     "text": [
      "count           500.000000\n",
      "mean             32.890751\n",
      "std              28.025422\n",
      "min               2.930717\n",
      "25%              14.785246\n",
      "50%              23.917439\n",
      "75%              41.815416\n",
      "max             197.328310\n",
      "95% CI Lower      6.529048\n",
      "95% CI Upper    106.574076\n",
      "Name: 7560, dtype: float64\n"
     ]
    }
   ],
   "source": [
    "# Generate summary statistics from the 30-year Monte Carlo simulation results\n",
    "# Save the results as a variable\n",
    "mc_thirty_year_40_60_summary_statistics = mc_thirty_year_40_60.summarize_cumulative_return()\n",
    "\n",
    "\n",
    "# Review the 30-year Monte Carlo summary statistics\n",
    "print(mc_thirty_year_40_60_summary_statistics)"
   ]
  },
  {
   "cell_type": "markdown",
   "metadata": {},
   "source": [
    "### Analyze the Retirement Portfolio Forecasts\n",
    "\n",
    "Using the current value of only the stock and bond portion of the member's portfolio and the summary statistics that you generated from the Monte Carlo simulation, answer the following question in your Jupyter notebook:\n",
    "\n",
    "-  What are the lower and upper bounds for the expected value of the portfolio with a 95% confidence interval?\n"
   ]
  },
  {
   "cell_type": "code",
   "execution_count": 35,
   "metadata": {},
   "outputs": [
    {
     "name": "stdout",
     "output_type": "stream",
     "text": [
      "The value of the stock and bond portion of the portfolio is $71,523.90\n"
     ]
    }
   ],
   "source": [
    "# Print the current balance of the stock and bond portion of the members portfolio\n",
    "print(f\"The value of the stock and bond portion of the portfolio is ${total_stocks_bonds:,.2f}\")"
   ]
  },
  {
   "cell_type": "code",
   "execution_count": 36,
   "metadata": {},
   "outputs": [
    {
     "name": "stdout",
     "output_type": "stream",
     "text": [
      "There is a 95% chance that an initial investment of $71,523.90 in the portfolio over the next 30 year will end in the range  $466,983.00 and $7,622,593.54.\n"
     ]
    }
   ],
   "source": [
    "# Use the lower and upper `95%` confidence intervals to calculate the range of the possible outcomes for the current stock/bond portfolio\n",
    "ci_lower_thirty_cumulative_return = round(\n",
    "                mc_thirty_year_40_60_summary_statistics[8] * total_stocks_bonds, 2)\n",
    "ci_upper_thirty_cumulative_return = round(\n",
    "                mc_thirty_year_40_60_summary_statistics[9] * total_stocks_bonds, 2)\n",
    "\n",
    "# Print the result of your calculations\n",
    "print(f\"There is a 95% chance that an initial investment of \"\n",
    "      f\"${total_stocks_bonds:,.2f} in the portfolio\"\n",
    "      f\" over the next 30 year will end in the range \"\n",
    "      f\" ${ci_lower_thirty_cumulative_return:,.2f} and \"\n",
    "      f\"${ci_upper_thirty_cumulative_return:,.2f}.\")"
   ]
  },
  {
   "cell_type": "markdown",
   "metadata": {},
   "source": [
    "### Forecast Cumulative Returns in 10 Years\n",
    "\n",
    "The CTO of the credit union is impressed with your work on these planning tools but wonders if 30 years is a long time to wait until retirement. So, your next task is to adjust the retirement portfolio and run a new Monte Carlo simulation to find out if the changes will allow members to retire earlier.\n",
    "\n",
    "For this new Monte Carlo simulation, do the following: \n",
    "\n",
    "- Forecast the cumulative returns for 10 years from now. Because of the shortened investment horizon (30 years to 10 years), the portfolio needs to invest more heavily in the riskier asset&mdash;that is, stock&mdash;to help accumulate wealth for retirement. \n",
    "\n",
    "- Adjust the weights of the retirement portfolio so that the composition for the Monte Carlo simulation consists of 20% bonds and 80% stocks. \n",
    "\n",
    "- Run the simulation over 500 samples, and use the same data that the API call to Alpaca generated.\n",
    "\n",
    "- Based on the new Monte Carlo simulation, answer the following questions in your Jupyter notebook:\n",
    "\n",
    "    - Using the current value of only the stock and bond portion of the member's portfolio and the summary statistics that you generated from the new Monte Carlo simulation, what are the lower and upper bounds for the expected value of the portfolio (with the new weights) with a 95% confidence interval?\n",
    "\n",
    "    - Will weighting the portfolio more heavily toward stocks allow the credit union members to retire after only 10 years?\n"
   ]
  },
  {
   "cell_type": "code",
   "execution_count": 37,
   "metadata": {},
   "outputs": [
    {
     "data": {
      "text/html": [
       "<div>\n",
       "<style scoped>\n",
       "    .dataframe tbody tr th:only-of-type {\n",
       "        vertical-align: middle;\n",
       "    }\n",
       "\n",
       "    .dataframe tbody tr th {\n",
       "        vertical-align: top;\n",
       "    }\n",
       "\n",
       "    .dataframe thead tr th {\n",
       "        text-align: left;\n",
       "    }\n",
       "\n",
       "    .dataframe thead tr:last-of-type th {\n",
       "        text-align: right;\n",
       "    }\n",
       "</style>\n",
       "<table border=\"1\" class=\"dataframe\">\n",
       "  <thead>\n",
       "    <tr>\n",
       "      <th></th>\n",
       "      <th colspan=\"6\" halign=\"left\">AGG</th>\n",
       "      <th colspan=\"6\" halign=\"left\">SPY</th>\n",
       "    </tr>\n",
       "    <tr>\n",
       "      <th></th>\n",
       "      <th>open</th>\n",
       "      <th>high</th>\n",
       "      <th>low</th>\n",
       "      <th>close</th>\n",
       "      <th>volume</th>\n",
       "      <th>daily_return</th>\n",
       "      <th>open</th>\n",
       "      <th>high</th>\n",
       "      <th>low</th>\n",
       "      <th>close</th>\n",
       "      <th>volume</th>\n",
       "      <th>daily_return</th>\n",
       "    </tr>\n",
       "    <tr>\n",
       "      <th>time</th>\n",
       "      <th></th>\n",
       "      <th></th>\n",
       "      <th></th>\n",
       "      <th></th>\n",
       "      <th></th>\n",
       "      <th></th>\n",
       "      <th></th>\n",
       "      <th></th>\n",
       "      <th></th>\n",
       "      <th></th>\n",
       "      <th></th>\n",
       "      <th></th>\n",
       "    </tr>\n",
       "  </thead>\n",
       "  <tbody>\n",
       "    <tr>\n",
       "      <th>2018-08-02 00:00:00-04:00</th>\n",
       "      <td>105.76</td>\n",
       "      <td>105.7600</td>\n",
       "      <td>105.650</td>\n",
       "      <td>105.730</td>\n",
       "      <td>2989387.0</td>\n",
       "      <td>NaN</td>\n",
       "      <td>279.38</td>\n",
       "      <td>282.58</td>\n",
       "      <td>279.1600</td>\n",
       "      <td>282.34</td>\n",
       "      <td>42491022</td>\n",
       "      <td>NaN</td>\n",
       "    </tr>\n",
       "    <tr>\n",
       "      <th>2018-08-03 00:00:00-04:00</th>\n",
       "      <td>105.81</td>\n",
       "      <td>105.9799</td>\n",
       "      <td>105.810</td>\n",
       "      <td>105.930</td>\n",
       "      <td>2286629.0</td>\n",
       "      <td>0.001892</td>\n",
       "      <td>282.53</td>\n",
       "      <td>283.65</td>\n",
       "      <td>282.3300</td>\n",
       "      <td>283.64</td>\n",
       "      <td>34485363</td>\n",
       "      <td>0.004604</td>\n",
       "    </tr>\n",
       "    <tr>\n",
       "      <th>2018-08-06 00:00:00-04:00</th>\n",
       "      <td>106.03</td>\n",
       "      <td>106.1100</td>\n",
       "      <td>106.000</td>\n",
       "      <td>106.030</td>\n",
       "      <td>2974758.0</td>\n",
       "      <td>0.000944</td>\n",
       "      <td>283.56</td>\n",
       "      <td>284.99</td>\n",
       "      <td>283.2015</td>\n",
       "      <td>284.68</td>\n",
       "      <td>29906355</td>\n",
       "      <td>0.003667</td>\n",
       "    </tr>\n",
       "    <tr>\n",
       "      <th>2018-08-07 00:00:00-04:00</th>\n",
       "      <td>105.97</td>\n",
       "      <td>105.9700</td>\n",
       "      <td>105.825</td>\n",
       "      <td>105.840</td>\n",
       "      <td>2368151.0</td>\n",
       "      <td>-0.001792</td>\n",
       "      <td>285.39</td>\n",
       "      <td>286.01</td>\n",
       "      <td>285.2400</td>\n",
       "      <td>285.54</td>\n",
       "      <td>32455420</td>\n",
       "      <td>0.003021</td>\n",
       "    </tr>\n",
       "    <tr>\n",
       "      <th>2018-08-08 00:00:00-04:00</th>\n",
       "      <td>105.83</td>\n",
       "      <td>105.9100</td>\n",
       "      <td>105.800</td>\n",
       "      <td>105.845</td>\n",
       "      <td>1613011.0</td>\n",
       "      <td>0.000047</td>\n",
       "      <td>285.39</td>\n",
       "      <td>285.91</td>\n",
       "      <td>284.9400</td>\n",
       "      <td>285.42</td>\n",
       "      <td>29142601</td>\n",
       "      <td>-0.000420</td>\n",
       "    </tr>\n",
       "  </tbody>\n",
       "</table>\n",
       "</div>"
      ],
      "text/plain": [
       "                              AGG                                         \\\n",
       "                             open      high      low    close     volume   \n",
       "time                                                                       \n",
       "2018-08-02 00:00:00-04:00  105.76  105.7600  105.650  105.730  2989387.0   \n",
       "2018-08-03 00:00:00-04:00  105.81  105.9799  105.810  105.930  2286629.0   \n",
       "2018-08-06 00:00:00-04:00  106.03  106.1100  106.000  106.030  2974758.0   \n",
       "2018-08-07 00:00:00-04:00  105.97  105.9700  105.825  105.840  2368151.0   \n",
       "2018-08-08 00:00:00-04:00  105.83  105.9100  105.800  105.845  1613011.0   \n",
       "\n",
       "                                           SPY                            \\\n",
       "                          daily_return    open    high       low   close   \n",
       "time                                                                       \n",
       "2018-08-02 00:00:00-04:00          NaN  279.38  282.58  279.1600  282.34   \n",
       "2018-08-03 00:00:00-04:00     0.001892  282.53  283.65  282.3300  283.64   \n",
       "2018-08-06 00:00:00-04:00     0.000944  283.56  284.99  283.2015  284.68   \n",
       "2018-08-07 00:00:00-04:00    -0.001792  285.39  286.01  285.2400  285.54   \n",
       "2018-08-08 00:00:00-04:00     0.000047  285.39  285.91  284.9400  285.42   \n",
       "\n",
       "                                                  \n",
       "                             volume daily_return  \n",
       "time                                              \n",
       "2018-08-02 00:00:00-04:00  42491022          NaN  \n",
       "2018-08-03 00:00:00-04:00  34485363     0.004604  \n",
       "2018-08-06 00:00:00-04:00  29906355     0.003667  \n",
       "2018-08-07 00:00:00-04:00  32455420     0.003021  \n",
       "2018-08-08 00:00:00-04:00  29142601    -0.000420  "
      ]
     },
     "execution_count": 37,
     "metadata": {},
     "output_type": "execute_result"
    }
   ],
   "source": [
    "# Configure a Monte Carlo simulation to forecast 10 years cumulative returns\n",
    "# The weights should be split 20% to AGG and 80% to SPY.\n",
    "# Run 500 samples.\n",
    "mc_ten_year_20_80 = MCSimulation(\n",
    "                        portfolio_data = daily_returns_spy_agg_df,\n",
    "                        weights = [0.20, 0.80],\n",
    "                        num_simulation = 500,\n",
    "                        num_trading_days = 10 * 252)\n",
    "\n",
    "# Review the simulation input data\n",
    "mc_ten_year_20_80.portfolio_data.head()"
   ]
  },
  {
   "cell_type": "code",
   "execution_count": 38,
   "metadata": {},
   "outputs": [
    {
     "name": "stdout",
     "output_type": "stream",
     "text": [
      "Running Monte Carlo simulation number 0.\n",
      "Running Monte Carlo simulation number 10.\n",
      "Running Monte Carlo simulation number 20.\n",
      "Running Monte Carlo simulation number 30.\n",
      "Running Monte Carlo simulation number 40.\n",
      "Running Monte Carlo simulation number 50.\n",
      "Running Monte Carlo simulation number 60.\n",
      "Running Monte Carlo simulation number 70.\n",
      "Running Monte Carlo simulation number 80.\n",
      "Running Monte Carlo simulation number 90.\n",
      "Running Monte Carlo simulation number 100.\n",
      "Running Monte Carlo simulation number 110.\n",
      "Running Monte Carlo simulation number 120.\n",
      "Running Monte Carlo simulation number 130.\n",
      "Running Monte Carlo simulation number 140.\n",
      "Running Monte Carlo simulation number 150.\n",
      "Running Monte Carlo simulation number 160.\n",
      "Running Monte Carlo simulation number 170.\n",
      "Running Monte Carlo simulation number 180.\n",
      "Running Monte Carlo simulation number 190.\n",
      "Running Monte Carlo simulation number 200.\n",
      "Running Monte Carlo simulation number 210.\n",
      "Running Monte Carlo simulation number 220.\n",
      "Running Monte Carlo simulation number 230.\n",
      "Running Monte Carlo simulation number 240.\n",
      "Running Monte Carlo simulation number 250.\n",
      "Running Monte Carlo simulation number 260.\n",
      "Running Monte Carlo simulation number 270.\n",
      "Running Monte Carlo simulation number 280.\n",
      "Running Monte Carlo simulation number 290.\n",
      "Running Monte Carlo simulation number 300.\n",
      "Running Monte Carlo simulation number 310.\n",
      "Running Monte Carlo simulation number 320.\n",
      "Running Monte Carlo simulation number 330.\n",
      "Running Monte Carlo simulation number 340.\n",
      "Running Monte Carlo simulation number 350.\n",
      "Running Monte Carlo simulation number 360.\n",
      "Running Monte Carlo simulation number 370.\n",
      "Running Monte Carlo simulation number 380.\n",
      "Running Monte Carlo simulation number 390.\n",
      "Running Monte Carlo simulation number 400.\n",
      "Running Monte Carlo simulation number 410.\n",
      "Running Monte Carlo simulation number 420.\n",
      "Running Monte Carlo simulation number 430.\n",
      "Running Monte Carlo simulation number 440.\n",
      "Running Monte Carlo simulation number 450.\n",
      "Running Monte Carlo simulation number 460.\n",
      "Running Monte Carlo simulation number 470.\n",
      "Running Monte Carlo simulation number 480.\n",
      "Running Monte Carlo simulation number 490.\n"
     ]
    },
    {
     "data": {
      "text/html": [
       "<div>\n",
       "<style scoped>\n",
       "    .dataframe tbody tr th:only-of-type {\n",
       "        vertical-align: middle;\n",
       "    }\n",
       "\n",
       "    .dataframe tbody tr th {\n",
       "        vertical-align: top;\n",
       "    }\n",
       "\n",
       "    .dataframe thead th {\n",
       "        text-align: right;\n",
       "    }\n",
       "</style>\n",
       "<table border=\"1\" class=\"dataframe\">\n",
       "  <thead>\n",
       "    <tr style=\"text-align: right;\">\n",
       "      <th></th>\n",
       "      <th>0</th>\n",
       "      <th>1</th>\n",
       "      <th>2</th>\n",
       "      <th>3</th>\n",
       "      <th>4</th>\n",
       "      <th>5</th>\n",
       "      <th>6</th>\n",
       "      <th>7</th>\n",
       "      <th>8</th>\n",
       "      <th>9</th>\n",
       "      <th>...</th>\n",
       "      <th>490</th>\n",
       "      <th>491</th>\n",
       "      <th>492</th>\n",
       "      <th>493</th>\n",
       "      <th>494</th>\n",
       "      <th>495</th>\n",
       "      <th>496</th>\n",
       "      <th>497</th>\n",
       "      <th>498</th>\n",
       "      <th>499</th>\n",
       "    </tr>\n",
       "  </thead>\n",
       "  <tbody>\n",
       "    <tr>\n",
       "      <th>0</th>\n",
       "      <td>1.000000</td>\n",
       "      <td>1.000000</td>\n",
       "      <td>1.000000</td>\n",
       "      <td>1.000000</td>\n",
       "      <td>1.000000</td>\n",
       "      <td>1.000000</td>\n",
       "      <td>1.000000</td>\n",
       "      <td>1.000000</td>\n",
       "      <td>1.000000</td>\n",
       "      <td>1.000000</td>\n",
       "      <td>...</td>\n",
       "      <td>1.000000</td>\n",
       "      <td>1.000000</td>\n",
       "      <td>1.000000</td>\n",
       "      <td>1.000000</td>\n",
       "      <td>1.000000</td>\n",
       "      <td>1.000000</td>\n",
       "      <td>1.000000</td>\n",
       "      <td>1.000000</td>\n",
       "      <td>1.000000</td>\n",
       "      <td>1.000000</td>\n",
       "    </tr>\n",
       "    <tr>\n",
       "      <th>1</th>\n",
       "      <td>0.992192</td>\n",
       "      <td>1.008918</td>\n",
       "      <td>0.987726</td>\n",
       "      <td>1.007477</td>\n",
       "      <td>1.020988</td>\n",
       "      <td>0.996961</td>\n",
       "      <td>0.999641</td>\n",
       "      <td>0.998300</td>\n",
       "      <td>1.008424</td>\n",
       "      <td>0.998471</td>\n",
       "      <td>...</td>\n",
       "      <td>0.993753</td>\n",
       "      <td>0.996745</td>\n",
       "      <td>1.008372</td>\n",
       "      <td>0.987666</td>\n",
       "      <td>0.984468</td>\n",
       "      <td>1.012476</td>\n",
       "      <td>1.018646</td>\n",
       "      <td>1.005047</td>\n",
       "      <td>0.991516</td>\n",
       "      <td>0.984682</td>\n",
       "    </tr>\n",
       "    <tr>\n",
       "      <th>2</th>\n",
       "      <td>0.996667</td>\n",
       "      <td>1.021218</td>\n",
       "      <td>0.978386</td>\n",
       "      <td>1.010845</td>\n",
       "      <td>1.011305</td>\n",
       "      <td>0.999755</td>\n",
       "      <td>1.004366</td>\n",
       "      <td>0.995280</td>\n",
       "      <td>1.010118</td>\n",
       "      <td>0.988099</td>\n",
       "      <td>...</td>\n",
       "      <td>0.984308</td>\n",
       "      <td>0.994510</td>\n",
       "      <td>1.012935</td>\n",
       "      <td>0.980401</td>\n",
       "      <td>0.980920</td>\n",
       "      <td>0.999795</td>\n",
       "      <td>1.007763</td>\n",
       "      <td>1.014643</td>\n",
       "      <td>1.017974</td>\n",
       "      <td>0.996558</td>\n",
       "    </tr>\n",
       "    <tr>\n",
       "      <th>3</th>\n",
       "      <td>1.008260</td>\n",
       "      <td>1.041217</td>\n",
       "      <td>0.992316</td>\n",
       "      <td>1.008829</td>\n",
       "      <td>1.017084</td>\n",
       "      <td>0.975012</td>\n",
       "      <td>0.995356</td>\n",
       "      <td>0.996857</td>\n",
       "      <td>1.036802</td>\n",
       "      <td>0.982621</td>\n",
       "      <td>...</td>\n",
       "      <td>0.991442</td>\n",
       "      <td>0.989658</td>\n",
       "      <td>1.020471</td>\n",
       "      <td>0.971225</td>\n",
       "      <td>0.973303</td>\n",
       "      <td>1.022645</td>\n",
       "      <td>0.996398</td>\n",
       "      <td>1.018328</td>\n",
       "      <td>1.012971</td>\n",
       "      <td>0.996301</td>\n",
       "    </tr>\n",
       "    <tr>\n",
       "      <th>4</th>\n",
       "      <td>1.010737</td>\n",
       "      <td>1.031875</td>\n",
       "      <td>0.978729</td>\n",
       "      <td>1.007606</td>\n",
       "      <td>1.033300</td>\n",
       "      <td>0.967921</td>\n",
       "      <td>1.009884</td>\n",
       "      <td>0.975749</td>\n",
       "      <td>1.033800</td>\n",
       "      <td>0.986866</td>\n",
       "      <td>...</td>\n",
       "      <td>0.988849</td>\n",
       "      <td>0.976897</td>\n",
       "      <td>1.026982</td>\n",
       "      <td>0.964008</td>\n",
       "      <td>0.989516</td>\n",
       "      <td>1.028161</td>\n",
       "      <td>1.020779</td>\n",
       "      <td>1.010175</td>\n",
       "      <td>1.005365</td>\n",
       "      <td>0.993243</td>\n",
       "    </tr>\n",
       "    <tr>\n",
       "      <th>...</th>\n",
       "      <td>...</td>\n",
       "      <td>...</td>\n",
       "      <td>...</td>\n",
       "      <td>...</td>\n",
       "      <td>...</td>\n",
       "      <td>...</td>\n",
       "      <td>...</td>\n",
       "      <td>...</td>\n",
       "      <td>...</td>\n",
       "      <td>...</td>\n",
       "      <td>...</td>\n",
       "      <td>...</td>\n",
       "      <td>...</td>\n",
       "      <td>...</td>\n",
       "      <td>...</td>\n",
       "      <td>...</td>\n",
       "      <td>...</td>\n",
       "      <td>...</td>\n",
       "      <td>...</td>\n",
       "      <td>...</td>\n",
       "      <td>...</td>\n",
       "    </tr>\n",
       "    <tr>\n",
       "      <th>2516</th>\n",
       "      <td>6.603121</td>\n",
       "      <td>4.341826</td>\n",
       "      <td>3.037236</td>\n",
       "      <td>1.893485</td>\n",
       "      <td>6.099521</td>\n",
       "      <td>4.776945</td>\n",
       "      <td>7.478071</td>\n",
       "      <td>0.709486</td>\n",
       "      <td>2.584243</td>\n",
       "      <td>3.673876</td>\n",
       "      <td>...</td>\n",
       "      <td>4.913076</td>\n",
       "      <td>4.091557</td>\n",
       "      <td>2.439093</td>\n",
       "      <td>4.472615</td>\n",
       "      <td>3.378784</td>\n",
       "      <td>2.948725</td>\n",
       "      <td>11.359542</td>\n",
       "      <td>2.906862</td>\n",
       "      <td>6.159363</td>\n",
       "      <td>3.697469</td>\n",
       "    </tr>\n",
       "    <tr>\n",
       "      <th>2517</th>\n",
       "      <td>6.535145</td>\n",
       "      <td>4.417091</td>\n",
       "      <td>3.053674</td>\n",
       "      <td>1.879476</td>\n",
       "      <td>5.995019</td>\n",
       "      <td>4.871422</td>\n",
       "      <td>7.438949</td>\n",
       "      <td>0.714821</td>\n",
       "      <td>2.593710</td>\n",
       "      <td>3.720019</td>\n",
       "      <td>...</td>\n",
       "      <td>4.826312</td>\n",
       "      <td>4.043264</td>\n",
       "      <td>2.437256</td>\n",
       "      <td>4.547616</td>\n",
       "      <td>3.363564</td>\n",
       "      <td>2.970980</td>\n",
       "      <td>11.339894</td>\n",
       "      <td>2.876078</td>\n",
       "      <td>6.008679</td>\n",
       "      <td>3.698371</td>\n",
       "    </tr>\n",
       "    <tr>\n",
       "      <th>2518</th>\n",
       "      <td>6.537108</td>\n",
       "      <td>4.356506</td>\n",
       "      <td>3.052009</td>\n",
       "      <td>1.891021</td>\n",
       "      <td>5.942707</td>\n",
       "      <td>4.764512</td>\n",
       "      <td>7.468271</td>\n",
       "      <td>0.718165</td>\n",
       "      <td>2.620815</td>\n",
       "      <td>3.726236</td>\n",
       "      <td>...</td>\n",
       "      <td>4.764644</td>\n",
       "      <td>4.050091</td>\n",
       "      <td>2.449657</td>\n",
       "      <td>4.503432</td>\n",
       "      <td>3.347888</td>\n",
       "      <td>2.977369</td>\n",
       "      <td>11.296483</td>\n",
       "      <td>2.899363</td>\n",
       "      <td>5.970560</td>\n",
       "      <td>3.672300</td>\n",
       "    </tr>\n",
       "    <tr>\n",
       "      <th>2519</th>\n",
       "      <td>6.390188</td>\n",
       "      <td>4.353765</td>\n",
       "      <td>3.048456</td>\n",
       "      <td>1.871524</td>\n",
       "      <td>5.919075</td>\n",
       "      <td>4.741946</td>\n",
       "      <td>7.472917</td>\n",
       "      <td>0.725738</td>\n",
       "      <td>2.623257</td>\n",
       "      <td>3.720854</td>\n",
       "      <td>...</td>\n",
       "      <td>4.791418</td>\n",
       "      <td>4.020923</td>\n",
       "      <td>2.448672</td>\n",
       "      <td>4.479998</td>\n",
       "      <td>3.361215</td>\n",
       "      <td>3.002698</td>\n",
       "      <td>11.286801</td>\n",
       "      <td>2.931579</td>\n",
       "      <td>5.889476</td>\n",
       "      <td>3.627308</td>\n",
       "    </tr>\n",
       "    <tr>\n",
       "      <th>2520</th>\n",
       "      <td>6.406322</td>\n",
       "      <td>4.378655</td>\n",
       "      <td>3.085330</td>\n",
       "      <td>1.882409</td>\n",
       "      <td>5.885170</td>\n",
       "      <td>4.666488</td>\n",
       "      <td>7.383020</td>\n",
       "      <td>0.719508</td>\n",
       "      <td>2.674061</td>\n",
       "      <td>3.755530</td>\n",
       "      <td>...</td>\n",
       "      <td>4.762085</td>\n",
       "      <td>3.998642</td>\n",
       "      <td>2.401164</td>\n",
       "      <td>4.526862</td>\n",
       "      <td>3.306843</td>\n",
       "      <td>2.950813</td>\n",
       "      <td>11.321148</td>\n",
       "      <td>2.906521</td>\n",
       "      <td>5.884396</td>\n",
       "      <td>3.597109</td>\n",
       "    </tr>\n",
       "  </tbody>\n",
       "</table>\n",
       "<p>2521 rows × 500 columns</p>\n",
       "</div>"
      ],
      "text/plain": [
       "           0         1         2         3         4         5         6    \\\n",
       "0     1.000000  1.000000  1.000000  1.000000  1.000000  1.000000  1.000000   \n",
       "1     0.992192  1.008918  0.987726  1.007477  1.020988  0.996961  0.999641   \n",
       "2     0.996667  1.021218  0.978386  1.010845  1.011305  0.999755  1.004366   \n",
       "3     1.008260  1.041217  0.992316  1.008829  1.017084  0.975012  0.995356   \n",
       "4     1.010737  1.031875  0.978729  1.007606  1.033300  0.967921  1.009884   \n",
       "...        ...       ...       ...       ...       ...       ...       ...   \n",
       "2516  6.603121  4.341826  3.037236  1.893485  6.099521  4.776945  7.478071   \n",
       "2517  6.535145  4.417091  3.053674  1.879476  5.995019  4.871422  7.438949   \n",
       "2518  6.537108  4.356506  3.052009  1.891021  5.942707  4.764512  7.468271   \n",
       "2519  6.390188  4.353765  3.048456  1.871524  5.919075  4.741946  7.472917   \n",
       "2520  6.406322  4.378655  3.085330  1.882409  5.885170  4.666488  7.383020   \n",
       "\n",
       "           7         8         9    ...       490       491       492  \\\n",
       "0     1.000000  1.000000  1.000000  ...  1.000000  1.000000  1.000000   \n",
       "1     0.998300  1.008424  0.998471  ...  0.993753  0.996745  1.008372   \n",
       "2     0.995280  1.010118  0.988099  ...  0.984308  0.994510  1.012935   \n",
       "3     0.996857  1.036802  0.982621  ...  0.991442  0.989658  1.020471   \n",
       "4     0.975749  1.033800  0.986866  ...  0.988849  0.976897  1.026982   \n",
       "...        ...       ...       ...  ...       ...       ...       ...   \n",
       "2516  0.709486  2.584243  3.673876  ...  4.913076  4.091557  2.439093   \n",
       "2517  0.714821  2.593710  3.720019  ...  4.826312  4.043264  2.437256   \n",
       "2518  0.718165  2.620815  3.726236  ...  4.764644  4.050091  2.449657   \n",
       "2519  0.725738  2.623257  3.720854  ...  4.791418  4.020923  2.448672   \n",
       "2520  0.719508  2.674061  3.755530  ...  4.762085  3.998642  2.401164   \n",
       "\n",
       "           493       494       495        496       497       498       499  \n",
       "0     1.000000  1.000000  1.000000   1.000000  1.000000  1.000000  1.000000  \n",
       "1     0.987666  0.984468  1.012476   1.018646  1.005047  0.991516  0.984682  \n",
       "2     0.980401  0.980920  0.999795   1.007763  1.014643  1.017974  0.996558  \n",
       "3     0.971225  0.973303  1.022645   0.996398  1.018328  1.012971  0.996301  \n",
       "4     0.964008  0.989516  1.028161   1.020779  1.010175  1.005365  0.993243  \n",
       "...        ...       ...       ...        ...       ...       ...       ...  \n",
       "2516  4.472615  3.378784  2.948725  11.359542  2.906862  6.159363  3.697469  \n",
       "2517  4.547616  3.363564  2.970980  11.339894  2.876078  6.008679  3.698371  \n",
       "2518  4.503432  3.347888  2.977369  11.296483  2.899363  5.970560  3.672300  \n",
       "2519  4.479998  3.361215  3.002698  11.286801  2.931579  5.889476  3.627308  \n",
       "2520  4.526862  3.306843  2.950813  11.321148  2.906521  5.884396  3.597109  \n",
       "\n",
       "[2521 rows x 500 columns]"
      ]
     },
     "execution_count": 38,
     "metadata": {},
     "output_type": "execute_result"
    }
   ],
   "source": [
    "# Run the Monte Carlo simulation to forecast 10 years cumulative returns\n",
    "mc_ten_year_20_80.calc_cumulative_return()"
   ]
  },
  {
   "cell_type": "code",
   "execution_count": 39,
   "metadata": {},
   "outputs": [
    {
     "data": {
      "image/png": "[encoded data removed]",
      "text/plain": [
       "<Figure size 432x288 with 1 Axes>"
      ]
     },
     "metadata": {
      "needs_background": "light"
     },
     "output_type": "display_data"
    }
   ],
   "source": [
    "# Visualize the 10-year Monte Carlo simulation by creating an\n",
    "# overlay line plot\n",
    "mc_ten_year_20_80_sim_line_plot = mc_ten_year_20_80.plot_simulation()"
   ]
  },
  {
   "cell_type": "code",
   "execution_count": 40,
   "metadata": {},
   "outputs": [
    {
     "data": {
      "image/png": "[encoded data removed]",
      "text/plain": [
       "<Figure size 432x288 with 1 Axes>"
      ]
     },
     "metadata": {
      "needs_background": "light"
     },
     "output_type": "display_data"
    }
   ],
   "source": [
    "# Visualize the probability distribution of the 10-year Monte Carlo simulation \n",
    "# by plotting a histogram\n",
    "mc_ten_year_20_80_sim_dist_plot = mc_ten_year_20_80.plot_distribution()"
   ]
  },
  {
   "cell_type": "code",
   "execution_count": 41,
   "metadata": {},
   "outputs": [
    {
     "name": "stdout",
     "output_type": "stream",
     "text": [
      "count           500.000000\n",
      "mean              4.229699\n",
      "std               2.657083\n",
      "min               0.451869\n",
      "25%               2.457215\n",
      "50%               3.638315\n",
      "75%               5.270891\n",
      "max              19.324490\n",
      "95% CI Lower      1.062445\n",
      "95% CI Upper     11.097998\n",
      "Name: 2520, dtype: float64\n"
     ]
    }
   ],
   "source": [
    "# Generate summary statistics from the 10-year Monte Carlo simulation results\n",
    "# Save the results as a variable\n",
    "mc_ten_year_20_80_summary_statistics = mc_ten_year_20_80.summarize_cumulative_return()\n",
    "\n",
    "# Review the 10-year Monte Carlo summary statistics\n",
    "print(mc_ten_year_20_80_summary_statistics)"
   ]
  },
  {
   "cell_type": "markdown",
   "metadata": {},
   "source": [
    "### Answer the following questions:"
   ]
  },
  {
   "cell_type": "markdown",
   "metadata": {},
   "source": [
    "#### Question: Using the current value of only the stock and bond portion of the member's portfolio and the summary statistics that you generated from the new Monte Carlo simulation, what are the lower and upper bounds for the expected value of the portfolio (with the new weights) with a 95% confidence interval?"
   ]
  },
  {
   "cell_type": "code",
   "execution_count": 42,
   "metadata": {},
   "outputs": [
    {
     "name": "stdout",
     "output_type": "stream",
     "text": [
      "The value of the stock and bond portion of the portfolio is $71,523.90\n"
     ]
    }
   ],
   "source": [
    "# Print the current balance of the stock and bond portion of the members portfolio\n",
    "print(f\"The value of the stock and bond portion of the portfolio is ${total_stocks_bonds:,.2f}\")"
   ]
  },
  {
   "cell_type": "code",
   "execution_count": 43,
   "metadata": {},
   "outputs": [
    {
     "name": "stdout",
     "output_type": "stream",
     "text": [
      "There is a 95% chance that an initial investment of $71,523.90 in the portfolio over the next 10 year will end within in the range of $75,990.24 and $793,772.09.\n"
     ]
    }
   ],
   "source": [
    "# Use the lower and upper `95%` confidence intervals to calculate the range of the possible outcomes for the current stock/bond portfolio\n",
    "ci_lower_ten_cumulative_return = round(\n",
    "                mc_ten_year_20_80_summary_statistics[8] * total_stocks_bonds, 2)\n",
    "ci_upper_ten_cumulative_return = round(\n",
    "                mc_ten_year_20_80_summary_statistics[9] * total_stocks_bonds, 2)\n",
    "\n",
    "# Print the result of your calculations\n",
    "print(f\"There is a 95% chance that an initial investment of \"\n",
    "      f\"${total_stocks_bonds:,.2f} in the portfolio\"\n",
    "      f\" over the next 10 year will end within in the range of\"\n",
    "      f\" ${ci_lower_ten_cumulative_return:,.2f} and \"\n",
    "      f\"${ci_upper_ten_cumulative_return:,.2f}.\")"
   ]
  },
  {
   "cell_type": "markdown",
   "metadata": {},
   "source": [
    "#### Question: Will weighting the portfolio more heavily to stocks allow the credit union members to retire after only 10 years?"
   ]
  },
  {
   "cell_type": "raw",
   "metadata": {},
   "source": [
    "**Answer** # Weighting the portfolio more heavily to stocks does not look like it allows the credit union members to retire after only 10 years based merely on simulating the past 3 years worth of data and projecting it to the 10 to 30 years in the future. Past performance does not necessarily indicate future performance and 3 years worth of data might not be enought to be able to reliably project 30 or even 10 years into the future. The past data here also includes the Pandemic data which may not repeat in the future. It is possible that there are also major macroeconomic/geopolitical changes in the future that may disrupt the markets and which cannot be accounted for by the Monte Carlo simulations.  \n",
    "\n",
    "Based merely on one of the Monte Carlo simulations:\n",
    "The mean return of 10 years investment heavily in stocks is approximately 4 versus the mean return of 30 years investment is approximately 33.\n",
    "\n",
    "The median return of 10 years investment heavily in stocks is approximately 3.6 versus the median return of 30 years of approximately 24\n",
    "\n",
    "The maximum return of 10 years (approximately 19) is less than the median (approximately 24) and mean (approximately 33) of 30 years.\n",
    "\n",
    "So, overall the odds are against the 10 year protfolio to perform better than the 30 years portfolio. \n",
    "\n",
    "Although, there is a chance that 10 year investment might pan out better than the 30 years investment because there is an overlap between the 95% CI interval of 10 year with the 95% CI interval of 30 year. The chance is very small considering that the 30 year 95% CI interval is much wider and the smaller 95 % CI barely overlaps the 30 years 95% CI. \n",
    "\n",
    "There is a 95% chance that an initial investment of $71,523.90 in the portfolio over the next 10 year will end within in the range of $75,990.24 and $793,772.09\n",
    "\n",
    "There is a 95% chance that an initial investment of $71,523.90 in the portfolio over the next 30 year will end in the range  $466,983.00 and $7,622,593.54\n",
    "\n",
    "So, it is possible that 30 years portfolio might end up between approximately $467K and $794K (overlap of the two portfolio simulation's 95 % CI) and the 10 year might end between $467K and $794K with 30 year lower than the 10 year but the chance of that happening is very low based on the analysis of just 3 years of data.\n",
    "\n",
    "The above analysis assumes that any performance of the 10 year simulation that is better than the 30 year simulation performance suffices to meet the criteria of better performance and allow us to meet the retirement expectations.  \n",
    "\n",
    "If our target retirement expectations is the median or mean of the 30 year portfolio's monte carlo simulation results then the maximum 10 year forecast does not meet the the target retirement expectations at all and the credit union members won't be able to retire in 10 years.\n",
    "\n",
    "If the retirement expectations are approximately $76K, then the credit union members will retire with a 95% certainty in 10 years."
   ]
  },
  {
   "cell_type": "code",
   "execution_count": null,
   "metadata": {},
   "outputs": [],
   "source": []
  }
 ],
 "metadata": {
  "kernelspec": {
   "display_name": "Python (dev)",
   "language": "python",
   "name": "dev"
  },
  "language_info": {
   "codemirror_mode": {
    "name": "ipython",
    "version": 3
   },
   "file_extension": ".py",
   "mimetype": "text/x-python",
   "name": "python",
   "nbconvert_exporter": "python",
   "pygments_lexer": "ipython3",
   "version": "3.7.10"
  }
 },
 "nbformat": 4,
 "nbformat_minor": 4
}